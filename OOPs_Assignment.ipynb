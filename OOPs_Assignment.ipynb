{
  "nbformat": 4,
  "nbformat_minor": 0,
  "metadata": {
    "colab": {
      "provenance": []
    },
    "kernelspec": {
      "name": "python3",
      "display_name": "Python 3"
    },
    "language_info": {
      "name": "python"
    }
  },
  "cells": [
    {
      "cell_type": "markdown",
      "source": [
        "1. What is Object-Oriented Programming (OOP)?\n",
        "\n",
        "Ans:1\n",
        "\n",
        "The Object-Oriented Programming is a programming style where we design the object using real-world objects that have data(attributes) and methods.\n",
        "\n",
        "--> 5 main concepts of OOPs:-\n",
        "\n",
        "1.Class\n",
        "\n",
        "2.Object\n",
        "\n",
        "3.Inheritance\n",
        "\n",
        "4.Encapsulation\n",
        "\n",
        "5.Polymorphism"
      ],
      "metadata": {
        "id": "dJPVT8m1bKon"
      }
    },
    {
      "cell_type": "code",
      "source": [],
      "metadata": {
        "id": "4sdmLsmcc1Zs"
      },
      "execution_count": null,
      "outputs": []
    },
    {
      "cell_type": "markdown",
      "source": [
        "2. What is a class in OOP?\n",
        "\n",
        "Ans-2\n",
        "\n",
        "A class is a blueprint for creatig objects.\n",
        "\n",
        "It defines data(attributes) and function(method) for the object."
      ],
      "metadata": {
        "id": "gL8P_s9UcXEZ"
      }
    },
    {
      "cell_type": "code",
      "execution_count": null,
      "metadata": {
        "id": "ck6SLP_GbAsE"
      },
      "outputs": [],
      "source": []
    },
    {
      "cell_type": "markdown",
      "source": [
        "3. What is an object in OOP?\n",
        "\n",
        "Ans-3\n",
        "\n",
        "Objects is a real world entities which is created by a class. It is a instance of the class.\n",
        "\n",
        "Example:\n",
        "\n",
        "class of car--> which have attributs and function like spped,wheel,colour,etc..\n",
        "\n",
        "So object for that class is like --> XUV,BMW,KIA,etc.."
      ],
      "metadata": {
        "id": "VhnifIO8c2ut"
      }
    },
    {
      "cell_type": "code",
      "source": [],
      "metadata": {
        "id": "OPmDnoIwdP2u"
      },
      "execution_count": null,
      "outputs": []
    },
    {
      "cell_type": "markdown",
      "source": [
        "4.  What is the difference between abstraction and encapsulation?\n",
        "\n",
        "Ans-4\n",
        "\n",
        "Abstraction --> It means showing only the required inforamtion and hidding the unneccesary details.\n",
        "\n",
        "Encapsulation --> It means wrapping of data(variable) and function(method) together into a single unit called class."
      ],
      "metadata": {
        "id": "x8I4rQEMdtl8"
      }
    },
    {
      "cell_type": "code",
      "source": [],
      "metadata": {
        "id": "zz-_b1FleK-q"
      },
      "execution_count": null,
      "outputs": []
    },
    {
      "cell_type": "markdown",
      "source": [
        "5. What are dunder methods in Python?\n",
        "\n",
        "Ans-5\n",
        "\n",
        "Dunder is the special method in python which means double underscoree method. There are methods like __init__,__main__,__name__, etc.. .\n",
        "\n",
        "They are defined by the python built in classes and generally used for operator overloading."
      ],
      "metadata": {
        "id": "dJKVpFkseeQd"
      }
    },
    {
      "cell_type": "code",
      "source": [],
      "metadata": {
        "id": "y3A2ekq9hCOB"
      },
      "execution_count": null,
      "outputs": []
    },
    {
      "cell_type": "markdown",
      "source": [
        "6. Explain the concept of inheritance in OOP?\n",
        "\n",
        "Ans - 6\n",
        "\n",
        "Inheritance is one of the most important concepts in object-oriented programming. It allow to inherit the property of one class to another class. The class from which we inherit the property is called as Parents class, and the class which inherit the propery is calles as Child class."
      ],
      "metadata": {
        "id": "ndJBi5kVh2-q"
      }
    },
    {
      "cell_type": "code",
      "source": [],
      "metadata": {
        "id": "fg5wuiY2ijP3"
      },
      "execution_count": null,
      "outputs": []
    },
    {
      "cell_type": "markdown",
      "source": [
        "7. What is polymorphism in OOP?\n",
        "\n",
        "Ans - 7\n",
        "\n",
        "Polymorphism means having many forms. Polymorphism allow the same method to behave differently depending on the object it is working it.\n",
        "\n",
        "Example : Like a man show different form according to the situation, like in workplace they are employee, in home they are parents, child , etc.. ."
      ],
      "metadata": {
        "id": "pd6dzMEPiltf"
      }
    },
    {
      "cell_type": "code",
      "source": [],
      "metadata": {
        "id": "7HBsO8Etjs6T"
      },
      "execution_count": null,
      "outputs": []
    },
    {
      "cell_type": "markdown",
      "source": [
        "8. How is encapsulation achieved in Python?\n",
        "\n",
        "Ans - 8\n",
        "\n",
        "In python encapsulation is achieved using the concept of name mangling, since python don't have true access modifiers public,private, protected like cpp and java. So python uses name managling to achieve it.\n",
        "\n",
        "1. Public member --> By deafault all the members(attributes and method) are public in python classes.\n",
        "\n",
        "2. Protected member --> In python to make a member protected we just add a single underscore (_) in fornt of it. Then it become the protected member of the class. Eg.\n",
        "\n",
        "        class Bank :\n",
        "            def _balance(self):\n",
        "                pass\n",
        "\n",
        "3. Private member --> In python if we want to make an member as a private member, then we will add double underscore (__) in front of it. Then the member will become the private member of the class. E.g..\n",
        "\n",
        "        class Bank !\n",
        "            def __Password(self):\n",
        "                pass"
      ],
      "metadata": {
        "id": "zBsbMv4Njv4E"
      }
    },
    {
      "cell_type": "code",
      "source": [],
      "metadata": {
        "id": "pNlFuS6IkdYG"
      },
      "execution_count": null,
      "outputs": []
    },
    {
      "cell_type": "markdown",
      "source": [
        "9. What is a constructor in Python?\n",
        "\n",
        "Ans - 9\n",
        "\n",
        "Constructor is the special method in python which is calles automatically when the object of the class is created. The constructor method in python is name as __init__."
      ],
      "metadata": {
        "id": "340V0Qn6mAF0"
      }
    },
    {
      "cell_type": "code",
      "source": [],
      "metadata": {
        "id": "-oejJb6UmaFQ"
      },
      "execution_count": null,
      "outputs": []
    },
    {
      "cell_type": "markdown",
      "source": [
        "10. What are class and static methods in Python+\n",
        "\n",
        "Ans - 10\n",
        "\n",
        "A class method is a method that belongs to the class rather than an instance of the class. It receives the class itself as the first argument, conventionally named cls. You define it using the @classmethod decorator.\n",
        "\n",
        "\n",
        "A static method is a method that is part of a class's namespace but does not interact with the class or an instance of the class. It doesn't receive the class or the instance as its first argument. You define it using the @staticmethod decorator.\n"
      ],
      "metadata": {
        "id": "rkD9PvtomdIL"
      }
    },
    {
      "cell_type": "code",
      "source": [],
      "metadata": {
        "id": "hqGt-026m5qD"
      },
      "execution_count": null,
      "outputs": []
    },
    {
      "cell_type": "markdown",
      "source": [
        "11. What is method overloading in Python?\n",
        "\n",
        "Ans - 11\n",
        "\n",
        "Method Overloading is the ability of defining the same function but with differnet parameters witin the same class. Method overloading is not possible in python, it is not supported by python. But we can use method overloading in many other prog. language like CPP and JAVA."
      ],
      "metadata": {
        "id": "O0zbRY5InApX"
      }
    },
    {
      "cell_type": "code",
      "source": [],
      "metadata": {
        "id": "lLhrKpevnkN2"
      },
      "execution_count": null,
      "outputs": []
    },
    {
      "cell_type": "markdown",
      "source": [
        "12. What is method overriding in OOP?\n",
        "\n",
        "Ans - 12\n",
        "\n",
        "In Object-Oriented Programming method overriding is a feature that allows a subclass to provide its own implementation of the method that is already define its one of the super class / parents class."
      ],
      "metadata": {
        "id": "32GiTKhbn85m"
      }
    },
    {
      "cell_type": "code",
      "source": [],
      "metadata": {
        "id": "Y182sRweoa5h"
      },
      "execution_count": null,
      "outputs": []
    },
    {
      "cell_type": "markdown",
      "source": [
        "13. What is a property decorator in Python?\n",
        "\n",
        "Ans-13\n",
        "\n",
        "The @property decorator in Python is a built-in way to define getters (and optionally setters and deleters) for a class attribute."
      ],
      "metadata": {
        "id": "tdYwR6_5X_sM"
      }
    },
    {
      "cell_type": "code",
      "source": [],
      "metadata": {
        "id": "sLMgn5mgYO_E"
      },
      "execution_count": null,
      "outputs": []
    },
    {
      "cell_type": "markdown",
      "source": [
        "14. Why is polymorphism important in OOP?\n",
        "\n",
        "Ans-14\n",
        "\n",
        "Polymorphism is important in Object Oriented Programming becaouse its allow same function and method name to behave differently depending on the object or data type.\n",
        "\n",
        "Importans of Polymorphism:-\n",
        "\n",
        "1. Code Reusability.\n",
        "2.Flexibility and Extensibility"
      ],
      "metadata": {
        "id": "NrmmaAlNYS4D"
      }
    },
    {
      "cell_type": "code",
      "source": [],
      "metadata": {
        "id": "_fISQC_zZDoJ"
      },
      "execution_count": null,
      "outputs": []
    },
    {
      "cell_type": "markdown",
      "source": [
        "15. What is an abstract class in Python?\n",
        "\n",
        "Ans - 15\n",
        "\n",
        "An abstract class is a class that cannot be instantiated directly (you can’t create objects from it).\n",
        "It is meant to be a blueprint for other classes.\n",
        "\n",
        "It may contain abstract methods (methods that are declared but don’t have an implementation).\n",
        "\n",
        "In Python, abstract classes are defined using the abc module (abc = Abstract Base Classes)."
      ],
      "metadata": {
        "id": "_lOibjzcZEN1"
      }
    },
    {
      "cell_type": "code",
      "source": [],
      "metadata": {
        "id": "ChO3G-TcZShV"
      },
      "execution_count": null,
      "outputs": []
    },
    {
      "cell_type": "markdown",
      "source": [
        "16. What are the advantages of OOP?\n",
        "\n",
        "Ans - 16\n",
        "\n",
        "Advantage of Object Oriented Programming :--\n",
        "\n",
        "1. Code Reusability\n",
        "2. Modularity\n",
        "3. Data Abstraction\n",
        "4. Inheritance\n",
        "5. Polymorphism\n",
        "6. Abstraction\n",
        "7. Closer to real world modeling."
      ],
      "metadata": {
        "id": "PtNayvYcZV63"
      }
    },
    {
      "cell_type": "code",
      "source": [],
      "metadata": {
        "id": "E8iH3cz9Ze0e"
      },
      "execution_count": null,
      "outputs": []
    },
    {
      "cell_type": "markdown",
      "source": [
        "17.  What is the difference between a class variable and an instance variable?\n",
        "\n",
        "Ans - 17\n",
        "\n",
        "Class Variable :-\n",
        "\n",
        "1. The variable which is belongs to the class.\n",
        "2. Defined inside the class but outside the method.\n",
        "3. Shared across all object of the class.\n",
        "\n",
        "Instance Variable :-   \n",
        "\n",
        "1. The variable which belongs to the instance or the object of the class.\n",
        "2. Define inside the __init__ method.\n",
        "3. Each Object has its own copy."
      ],
      "metadata": {
        "id": "5YpLY3PKZ9GB"
      }
    },
    {
      "cell_type": "code",
      "source": [],
      "metadata": {
        "id": "ukrly-BnarVC"
      },
      "execution_count": null,
      "outputs": []
    },
    {
      "cell_type": "markdown",
      "source": [
        "18. What is multiple inheritance in Python?\n",
        "\n",
        "Ans - 18\n",
        "\n",
        "Multiple Inheritance happens when the child class is inheting the property form more than one class.\n",
        "\n",
        "Example :-  \n",
        "\n",
        "        class A:\n",
        "            def show(self):\n",
        "                print(\"Show A\")\n",
        "        \n",
        "        class B():\n",
        "            def show(self):\n",
        "                print(\"Show B\")\n",
        "\n",
        "        class C(A,B):\n",
        "            def show(self):\n",
        "                print(\"Child class of A and B\")"
      ],
      "metadata": {
        "id": "MPwCarY9a1gT"
      }
    },
    {
      "cell_type": "code",
      "source": [],
      "metadata": {
        "id": "fPIy71O7cd0S"
      },
      "execution_count": null,
      "outputs": []
    },
    {
      "cell_type": "markdown",
      "source": [
        "19. Explain the purpose of ‘’__str__’ and ‘__repr__’ ‘ methods in Python?\n",
        "\n",
        "Ans - 19\n",
        "\n",
        "__str__ Method\n",
        "\n",
        "Purpose: Defines the “informal” or user-friendly string representation of an object.\n",
        "\n",
        "Used when you call str(obj) or print(obj).\n",
        "\n",
        "\n",
        "__repr__ Method\n",
        "\n",
        "Purpose: Defines the “official” or developer-friendly string representation of an object.\n",
        "\n",
        "Used when you call repr(obj) or just type obj in the Python shell.\n",
        "\n",
        "Goal → make the output unambiguous, often used for debugging."
      ],
      "metadata": {
        "id": "vZntmEdHcocb"
      }
    },
    {
      "cell_type": "code",
      "source": [],
      "metadata": {
        "id": "CM0Fns3GcxHC"
      },
      "execution_count": null,
      "outputs": []
    },
    {
      "cell_type": "markdown",
      "source": [
        "20. What is the significance of the ‘super()’ function in Python?\n",
        "\n",
        "Ans - 20\n",
        "\n",
        "What is super() in Python?\n",
        "\n",
        "super() is a built-in function that is used to call methods of the parent class.\n",
        "\n",
        "It is mainly used inside a child class to access the parent’s methods (like __init__, or any other method).\n",
        "\n",
        "Helps in code reusability and avoids rewriting parent logic"
      ],
      "metadata": {
        "id": "TlM-yGemc1qa"
      }
    },
    {
      "cell_type": "code",
      "source": [],
      "metadata": {
        "id": "acXOeZY0dBQW"
      },
      "execution_count": null,
      "outputs": []
    },
    {
      "cell_type": "markdown",
      "source": [
        "21. What is the significance of the __del__ method in Python?\n",
        "\n",
        "Ans-21\n",
        "\n",
        "🔹 __del__ Method in Python\n",
        "\n",
        "The __del__ method is known as a destructor in Python.\n",
        "\n",
        "It is called automatically when an object is about to be destroyed (garbage collected).\n",
        "\n",
        "Purpose → to release resources (like closing files, network connections, or freeing memory)."
      ],
      "metadata": {
        "id": "NVxWrZc3dBzV"
      }
    },
    {
      "cell_type": "code",
      "source": [],
      "metadata": {
        "id": "0Q-JRvOBdMot"
      },
      "execution_count": null,
      "outputs": []
    },
    {
      "cell_type": "markdown",
      "source": [
        "22. H What is the difference between @staticmethod and @classmethod in Python?\n",
        "\n",
        "Ans - 22\n",
        "\n",
        "@staticmethod :-  \n",
        "1. Function that dont use self or cls. Works like a normal function inside a class.\n",
        "2. Can be called using ClassName.method() or obj.method().\n",
        "\n",
        "@classmethod\n",
        "1. Method that takes cls as the first argument (represents the class).\n",
        "2. Can be called using ClassName.method() or obj.method()."
      ],
      "metadata": {
        "id": "ubMHog4adN0m"
      }
    },
    {
      "cell_type": "code",
      "source": [],
      "metadata": {
        "id": "m6JKR2tKdyTk"
      },
      "execution_count": null,
      "outputs": []
    },
    {
      "cell_type": "markdown",
      "source": [
        "23. How does polymorphism work in Python with inheritance+?\n",
        "\n",
        "Ans - 23\n",
        "\n",
        "Polymorphism means having many forms. Same function or method can exebute differnt properties.\n",
        "\n",
        "In inheritance polymorphism allows child class to provide a differnt implementaion of the function or method that are already defined in the parents class."
      ],
      "metadata": {
        "id": "VEcbSfDHd28H"
      }
    },
    {
      "cell_type": "code",
      "source": [],
      "metadata": {
        "id": "La7JFZ3Vedzv"
      },
      "execution_count": null,
      "outputs": []
    },
    {
      "cell_type": "markdown",
      "source": [
        "24. What is method chaining in Python OOP?\n",
        "\n",
        "Ans - 24\n",
        "\n",
        "Method chaining is a programming technique in Object-Oriented Programming (OOP) where multiple methods are called on the same object in a single line of code.\n",
        "Each method returns the object itself (self), which allows the next method to be called immediately."
      ],
      "metadata": {
        "id": "lC911TaNegms"
      }
    },
    {
      "cell_type": "code",
      "source": [],
      "metadata": {
        "id": "efcEwJEzepHn"
      },
      "execution_count": null,
      "outputs": []
    },
    {
      "cell_type": "markdown",
      "source": [
        "25.  What is the purpose of the __call__ method in Python?\n",
        "\n",
        "Ans - 25\n",
        "\n",
        "In Python, the __call__ method is a special method that allows an object (instance of a class) to be called like a function.\n",
        "\n",
        "Purpose:\n",
        "\n",
        "When you define __call__ in a class, you can use the object itself as if it were a function.\n",
        "\n",
        "This provides a function-like behavior to class instances"
      ],
      "metadata": {
        "id": "s82YfHlaerUf"
      }
    },
    {
      "cell_type": "code",
      "source": [],
      "metadata": {
        "id": "Aw0h1psley_t"
      },
      "execution_count": null,
      "outputs": []
    },
    {
      "cell_type": "code",
      "source": [],
      "metadata": {
        "id": "ajJYALEbe2je"
      },
      "execution_count": null,
      "outputs": []
    },
    {
      "cell_type": "markdown",
      "source": [
        "***Coding Question***"
      ],
      "metadata": {
        "id": "bwsPa-gqe3PJ"
      }
    },
    {
      "cell_type": "markdown",
      "source": [
        "1.  Create a parent class Animal with a method speak() that prints a generic message. Create a child class Dog\n",
        "that overrides the speak() method to print \"Bark!\"."
      ],
      "metadata": {
        "id": "M0TIbiQMe9OB"
      }
    },
    {
      "cell_type": "code",
      "source": [
        "class Animal:\n",
        "  def speak(self):\n",
        "    print(\"Dog can make noise!\")\n",
        "\n",
        "class Dog(Animal):\n",
        "  def speak(self):\n",
        "    print(\"Bark!\")\n",
        "\n",
        "dog = Dog()\n",
        "dog.speak()"
      ],
      "metadata": {
        "colab": {
          "base_uri": "https://localhost:8080/"
        },
        "id": "RRCetBjKe616",
        "outputId": "b83ef184-d786-4082-c376-ddaa7bb20021"
      },
      "execution_count": null,
      "outputs": [
        {
          "output_type": "stream",
          "name": "stdout",
          "text": [
            "Bark!\n"
          ]
        }
      ]
    },
    {
      "cell_type": "code",
      "source": [],
      "metadata": {
        "id": "p69LX51lfXfM"
      },
      "execution_count": null,
      "outputs": []
    },
    {
      "cell_type": "markdown",
      "source": [
        "2. Write a program to create an abstract class Shape with a method area(). Derive classes Circle and Rectangle\n",
        "from it and implement the area() method in both."
      ],
      "metadata": {
        "id": "6RuQjUG2fYQ3"
      }
    },
    {
      "cell_type": "code",
      "source": [
        "from abc import ABC,abstractmethod\n",
        "\n",
        "class Shape(ABC):\n",
        "  @abstractmethod\n",
        "  def area(self):\n",
        "    pass\n",
        "\n",
        "class Circle(Shape):\n",
        "  def __init__(self,radius):\n",
        "    self.radius = radius\n",
        "\n",
        "  def area(self):\n",
        "    return 3.14*(self.radius**2)\n",
        "\n",
        "class Rectangle(Shape):\n",
        "  def __init__(self,length,width):\n",
        "    self.length = length\n",
        "    self.width = width\n",
        "\n",
        "  def area(self):\n",
        "    return self.length*self.width\n",
        "\n",
        "circle = Circle(5)\n",
        "print(circle.area())\n",
        "rectangle = Rectangle(4,6)\n",
        "print(rectangle.area())"
      ],
      "metadata": {
        "colab": {
          "base_uri": "https://localhost:8080/"
        },
        "id": "24N0uoL0fa74",
        "outputId": "eaee8b71-28e4-4c89-92bd-04c939eafbcd"
      },
      "execution_count": null,
      "outputs": [
        {
          "output_type": "stream",
          "name": "stdout",
          "text": [
            "78.5\n",
            "24\n"
          ]
        }
      ]
    },
    {
      "cell_type": "code",
      "source": [],
      "metadata": {
        "id": "pd_mCwxdgWOM"
      },
      "execution_count": null,
      "outputs": []
    },
    {
      "cell_type": "markdown",
      "source": [
        "3.  Implement a multi-level inheritance scenario where a class Vehicle has an attribute type. Derive a class Car\n",
        "and further derive a class ElectricCar that adds a battery attribute."
      ],
      "metadata": {
        "id": "bplfnSPVgY1a"
      }
    },
    {
      "cell_type": "code",
      "source": [
        "# Base class\n",
        "class Vehicle:\n",
        "    def __init__(self, vehicle_type):\n",
        "        self.type = vehicle_type\n",
        "\n",
        "    def show_type(self):\n",
        "        print(f\"Vehicle Type: {self.type}\")\n",
        "\n",
        "\n",
        "# Derived class from Vehicle\n",
        "class Car(Vehicle):\n",
        "    def __init__(self, vehicle_type, brand):\n",
        "        super().__init__(vehicle_type)   # Call Vehicle constructor\n",
        "        self.brand = brand\n",
        "\n",
        "    def show_car_details(self):\n",
        "        print(f\"Car Brand: {self.brand}\")\n",
        "\n",
        "\n",
        "# Further derived class from Car\n",
        "class ElectricCar(Car):\n",
        "    def __init__(self, vehicle_type, brand, battery_capacity):\n",
        "        super().__init__(vehicle_type, brand)  # Call Car constructor\n",
        "        self.battery = battery_capacity\n",
        "\n",
        "    def show_electric_car_details(self):\n",
        "        print(f\"Battery Capacity: {self.battery} kWh\")\n",
        "\n",
        "\n",
        "# Example usage\n",
        "e_car = ElectricCar(\"Four Wheeler\", \"Tesla\", 85)\n",
        "\n",
        "# Access methods from all levels\n",
        "e_car.show_type()                # From Vehicle\n",
        "e_car.show_car_details()         # From Car\n",
        "e_car.show_electric_car_details()  # From ElectricCar\n"
      ],
      "metadata": {
        "colab": {
          "base_uri": "https://localhost:8080/"
        },
        "id": "oSPWxV0-gaW_",
        "outputId": "e9c95b9c-d728-49d8-f80e-2331ac74cd28"
      },
      "execution_count": null,
      "outputs": [
        {
          "output_type": "stream",
          "name": "stdout",
          "text": [
            "Vehicle Type: Four Wheeler\n",
            "Car Brand: Tesla\n",
            "Battery Capacity: 85 kWh\n"
          ]
        }
      ]
    },
    {
      "cell_type": "code",
      "source": [],
      "metadata": {
        "id": "WMAbGpL-hZXs"
      },
      "execution_count": null,
      "outputs": []
    },
    {
      "cell_type": "markdown",
      "source": [
        "4.  Demonstrate polymorphism by creating a base class Bird with a method fly(). Create two derived classes\n",
        "Sparrow and Penguin that override the fly() method.\n"
      ],
      "metadata": {
        "id": "5iz8pvBG8py2"
      }
    },
    {
      "cell_type": "code",
      "source": [
        "class Bird:\n",
        "    def fly(self):\n",
        "        print(\"Birds can fly in general.\")\n",
        "\n",
        "class Sparrow(Bird):\n",
        "    def fly(self):\n",
        "        print(\"Sparrow flies high in the sky.\")\n",
        "\n",
        "class Penguin(Bird):\n",
        "    def fly(self):\n",
        "        print(\"Penguins cannot fly, they swim instead.\")\n",
        "\n",
        "birds = [Sparrow(), Penguin()]\n",
        "for b in birds:\n",
        "    b.fly()\n"
      ],
      "metadata": {
        "colab": {
          "base_uri": "https://localhost:8080/"
        },
        "id": "-gpkjxKj8vnU",
        "outputId": "5b0cb9c8-eb83-499e-b6a0-667a37da1a31"
      },
      "execution_count": 1,
      "outputs": [
        {
          "output_type": "stream",
          "name": "stdout",
          "text": [
            "Sparrow flies high in the sky.\n",
            "Penguins cannot fly, they swim instead.\n"
          ]
        }
      ]
    },
    {
      "cell_type": "code",
      "source": [],
      "metadata": {
        "id": "eaBIg1l48zT5"
      },
      "execution_count": null,
      "outputs": []
    },
    {
      "cell_type": "markdown",
      "source": [
        "5. Write a program to demonstrate encapsulation by creating a class BankAccount with private attributes\n",
        "balance and methods to deposit, withdraw, and check balance."
      ],
      "metadata": {
        "id": "PiSZprxu84ZM"
      }
    },
    {
      "cell_type": "code",
      "source": [
        "class BankAccount:\n",
        "    def __init__(self, balance=0):\n",
        "        self.__balance = balance  # private attribute\n",
        "\n",
        "    def deposit(self, amount):\n",
        "        self.__balance += amount\n",
        "\n",
        "    def withdraw(self, amount):\n",
        "        if amount <= self.__balance:\n",
        "            self.__balance -= amount\n",
        "        else:\n",
        "            print(\"Insufficient funds\")\n",
        "\n",
        "    def check_balance(self):\n",
        "        return self.__balance\n",
        "\n",
        "# Demo\n",
        "account = BankAccount(1000)\n",
        "account.deposit(500)\n",
        "account.withdraw(200)\n",
        "print(\"Balance:\", account.check_balance())\n"
      ],
      "metadata": {
        "colab": {
          "base_uri": "https://localhost:8080/"
        },
        "id": "JtpALaEb85i6",
        "outputId": "5bbc7e55-ff44-4686-f6db-b6be7d98682f"
      },
      "execution_count": 2,
      "outputs": [
        {
          "output_type": "stream",
          "name": "stdout",
          "text": [
            "Balance: 1300\n"
          ]
        }
      ]
    },
    {
      "cell_type": "code",
      "source": [],
      "metadata": {
        "id": "Kb6vvk_49Esf"
      },
      "execution_count": null,
      "outputs": []
    },
    {
      "cell_type": "markdown",
      "source": [
        "6.  Demonstrate runtime polymorphism using a method play() in a base class Instrument. Derive classes Guitar\n",
        "and Piano that implement their own version of play()"
      ],
      "metadata": {
        "id": "GuhiX9AW9FTQ"
      }
    },
    {
      "cell_type": "code",
      "source": [
        "class Instrument:\n",
        "    def play(self):\n",
        "        print(\"Instrument is playing.\")\n",
        "\n",
        "class Guitar(Instrument):\n",
        "    def play(self):\n",
        "        print(\"Guitar is strumming.\")\n",
        "\n",
        "class Piano(Instrument):\n",
        "    def play(self):\n",
        "        print(\"Piano is playing melody.\")\n",
        "\n",
        "# Demo\n",
        "instruments = [Guitar(), Piano()]\n",
        "for inst in instruments:\n",
        "    inst.play()\n"
      ],
      "metadata": {
        "colab": {
          "base_uri": "https://localhost:8080/"
        },
        "id": "C4gEn6kw9IfG",
        "outputId": "3ffce56c-9323-4603-a4cd-edc5f8d7a530"
      },
      "execution_count": 3,
      "outputs": [
        {
          "output_type": "stream",
          "name": "stdout",
          "text": [
            "Guitar is strumming.\n",
            "Piano is playing melody.\n"
          ]
        }
      ]
    },
    {
      "cell_type": "code",
      "source": [],
      "metadata": {
        "id": "xW71a5Fe9Rky"
      },
      "execution_count": null,
      "outputs": []
    },
    {
      "cell_type": "markdown",
      "source": [
        "7. Create a class MathOperations with a class method add_numbers() to add two numbers and a static\n",
        "method subtract_numbers() to subtract two numbers"
      ],
      "metadata": {
        "id": "vMRyXILK9Sip"
      }
    },
    {
      "cell_type": "code",
      "source": [
        "class MathOperations:\n",
        "    @classmethod\n",
        "    def add_numbers(cls, a, b):\n",
        "        return a + b\n",
        "\n",
        "    @staticmethod\n",
        "    def subtract_numbers(a, b):\n",
        "        return a - b\n",
        "\n",
        "# Demo\n",
        "print(\"Addition:\", MathOperations.add_numbers(10, 5))\n",
        "print(\"Subtraction:\", MathOperations.subtract_numbers(10, 5))\n"
      ],
      "metadata": {
        "colab": {
          "base_uri": "https://localhost:8080/"
        },
        "id": "WrqzLKRn9jwV",
        "outputId": "d38a4a6f-6575-4a86-9c84-a365235fead5"
      },
      "execution_count": 4,
      "outputs": [
        {
          "output_type": "stream",
          "name": "stdout",
          "text": [
            "Addition: 15\n",
            "Subtraction: 5\n"
          ]
        }
      ]
    },
    {
      "cell_type": "code",
      "source": [],
      "metadata": {
        "id": "Wi1o5qlq9lIs"
      },
      "execution_count": null,
      "outputs": []
    },
    {
      "cell_type": "markdown",
      "source": [
        "8."
      ],
      "metadata": {
        "id": "4C4b-aV39l-5"
      }
    },
    {
      "cell_type": "code",
      "source": [
        "class Person:\n",
        "    count = 0\n",
        "\n",
        "    def __init__(self, name):\n",
        "        self.name = name\n",
        "        Person.count += 1\n",
        "\n",
        "    @classmethod\n",
        "    def total_persons(cls):\n",
        "        return cls.count\n",
        "\n",
        "# Demo\n",
        "p1 = Person(\"A\")\n",
        "p2 = Person(\"B\")\n",
        "print(\"Total persons created:\", Person.total_persons())\n"
      ],
      "metadata": {
        "colab": {
          "base_uri": "https://localhost:8080/"
        },
        "id": "0yx-QeHY9msl",
        "outputId": "7e006e70-5fcb-4f39-d0af-1810927d2c01"
      },
      "execution_count": 5,
      "outputs": [
        {
          "output_type": "stream",
          "name": "stdout",
          "text": [
            "Total persons created: 2\n"
          ]
        }
      ]
    },
    {
      "cell_type": "code",
      "source": [],
      "metadata": {
        "id": "apnWgVmZ9oRY"
      },
      "execution_count": null,
      "outputs": []
    },
    {
      "cell_type": "markdown",
      "source": [
        "9."
      ],
      "metadata": {
        "id": "Iky3oCI-9pDz"
      }
    },
    {
      "cell_type": "code",
      "source": [
        "class Fraction:\n",
        "    def __init__(self, numerator, denominator):\n",
        "        self.numerator = numerator\n",
        "        self.denominator = denominator\n",
        "\n",
        "    def __str__(self):\n",
        "        return f\"{self.numerator}/{self.denominator}\"\n",
        "\n",
        "# Demo\n",
        "f = Fraction(3, 4)\n",
        "print(f)\n"
      ],
      "metadata": {
        "colab": {
          "base_uri": "https://localhost:8080/"
        },
        "id": "1blzz1un9pvB",
        "outputId": "42784652-77ac-4532-e4d2-8a93101097e1"
      },
      "execution_count": 6,
      "outputs": [
        {
          "output_type": "stream",
          "name": "stdout",
          "text": [
            "3/4\n"
          ]
        }
      ]
    },
    {
      "cell_type": "code",
      "source": [],
      "metadata": {
        "id": "b_dNgN3W9rVV"
      },
      "execution_count": null,
      "outputs": []
    },
    {
      "cell_type": "markdown",
      "source": [
        "10."
      ],
      "metadata": {
        "id": "BD5_w2G89r-z"
      }
    },
    {
      "cell_type": "code",
      "source": [
        "class Vector:\n",
        "    def __init__(self, x, y):\n",
        "        self.x = x\n",
        "        self.y = y\n",
        "\n",
        "    def __add__(self, other):\n",
        "        return Vector(self.x + other.x, self.y + other.y)\n",
        "\n",
        "    def __str__(self):\n",
        "        return f\"({self.x}, {self.y})\"\n",
        "\n",
        "# Demo\n",
        "v1 = Vector(2, 3)\n",
        "v2 = Vector(4, 5)\n",
        "print(\"Sum of vectors:\", v1 + v2)\n"
      ],
      "metadata": {
        "colab": {
          "base_uri": "https://localhost:8080/"
        },
        "id": "l2zSO-d69spg",
        "outputId": "768559dd-76fe-4830-f870-fce84bbcc7ed"
      },
      "execution_count": 7,
      "outputs": [
        {
          "output_type": "stream",
          "name": "stdout",
          "text": [
            "Sum of vectors: (6, 8)\n"
          ]
        }
      ]
    },
    {
      "cell_type": "code",
      "source": [],
      "metadata": {
        "id": "wmtAGVf-9uBx"
      },
      "execution_count": null,
      "outputs": []
    },
    {
      "cell_type": "markdown",
      "source": [
        "11."
      ],
      "metadata": {
        "id": "vUcp_n-j9umT"
      }
    },
    {
      "cell_type": "code",
      "source": [
        "class Person:\n",
        "    def __init__(self, name, age):\n",
        "        self.name = name\n",
        "        self.age = age\n",
        "\n",
        "    def greet(self):\n",
        "        print(f\"Hello, my name is {self.name} and I am {self.age} years old.\")\n",
        "\n",
        "# Demo\n",
        "p = Person(\"John\", 25)\n",
        "p.greet()\n"
      ],
      "metadata": {
        "colab": {
          "base_uri": "https://localhost:8080/"
        },
        "id": "9YNWuvky9vKe",
        "outputId": "97fbd89b-8b62-4baa-e852-ca5321d26128"
      },
      "execution_count": 8,
      "outputs": [
        {
          "output_type": "stream",
          "name": "stdout",
          "text": [
            "Hello, my name is John and I am 25 years old.\n"
          ]
        }
      ]
    },
    {
      "cell_type": "code",
      "source": [],
      "metadata": {
        "id": "kRrlpxEU9xFR"
      },
      "execution_count": null,
      "outputs": []
    },
    {
      "cell_type": "markdown",
      "source": [
        "12."
      ],
      "metadata": {
        "id": "FlwlnTQv9xxD"
      }
    },
    {
      "cell_type": "code",
      "source": [
        "class Student:\n",
        "    def __init__(self, name, grades):\n",
        "        self.name = name\n",
        "        self.grades = grades\n",
        "\n",
        "    def average_grade(self):\n",
        "        return sum(self.grades) / len(self.grades)\n",
        "\n",
        "# Demo\n",
        "s = Student(\"Alice\", [90, 80, 85])\n",
        "print(\"Average grade:\", s.average_grade())\n"
      ],
      "metadata": {
        "colab": {
          "base_uri": "https://localhost:8080/"
        },
        "id": "MIsa7yrX9yRP",
        "outputId": "9d730b8c-de6d-4d18-97db-9a4d15916faf"
      },
      "execution_count": 9,
      "outputs": [
        {
          "output_type": "stream",
          "name": "stdout",
          "text": [
            "Average grade: 85.0\n"
          ]
        }
      ]
    },
    {
      "cell_type": "code",
      "source": [],
      "metadata": {
        "id": "TZD4wear91RP"
      },
      "execution_count": null,
      "outputs": []
    },
    {
      "cell_type": "markdown",
      "source": [
        "13."
      ],
      "metadata": {
        "id": "G_q6aPvx92Dv"
      }
    },
    {
      "cell_type": "code",
      "source": [
        "class Rectangle:\n",
        "    def set_dimensions(self, length, width):\n",
        "        self.length = length\n",
        "        self.width = width\n",
        "\n",
        "    def area(self):\n",
        "        return self.length * self.width\n",
        "\n",
        "# Demo\n",
        "r = Rectangle()\n",
        "r.set_dimensions(10, 5)\n",
        "print(\"Area of rectangle:\", r.area())\n"
      ],
      "metadata": {
        "colab": {
          "base_uri": "https://localhost:8080/"
        },
        "id": "hB2FRPQx92na",
        "outputId": "2d3497c4-2051-4969-c4ff-9f9bfef95e1a"
      },
      "execution_count": 10,
      "outputs": [
        {
          "output_type": "stream",
          "name": "stdout",
          "text": [
            "Area of rectangle: 50\n"
          ]
        }
      ]
    },
    {
      "cell_type": "code",
      "source": [],
      "metadata": {
        "id": "24NJl-xG94Ww"
      },
      "execution_count": null,
      "outputs": []
    },
    {
      "cell_type": "markdown",
      "source": [
        "14."
      ],
      "metadata": {
        "id": "X_p7wPWK940r"
      }
    },
    {
      "cell_type": "code",
      "source": [
        "class Employee:\n",
        "    def calculate_salary(self, hours, rate):\n",
        "        return hours * rate\n",
        "\n",
        "class Manager(Employee):\n",
        "    def calculate_salary(self, hours, rate, bonus):\n",
        "        return super().calculate_salary(hours, rate) + bonus\n",
        "\n",
        "# Demo\n",
        "m = Manager()\n",
        "print(\"Manager salary:\", m.calculate_salary(40, 50, 1000))\n"
      ],
      "metadata": {
        "colab": {
          "base_uri": "https://localhost:8080/"
        },
        "id": "9ZzS8G3O95Xi",
        "outputId": "fb3a3880-13d6-4c52-d2db-20d5e533d469"
      },
      "execution_count": 11,
      "outputs": [
        {
          "output_type": "stream",
          "name": "stdout",
          "text": [
            "Manager salary: 3000\n"
          ]
        }
      ]
    },
    {
      "cell_type": "code",
      "source": [],
      "metadata": {
        "id": "wkhJwlb196yf"
      },
      "execution_count": null,
      "outputs": []
    },
    {
      "cell_type": "markdown",
      "source": [
        "15."
      ],
      "metadata": {
        "id": "IOQXHURZ97Tv"
      }
    },
    {
      "cell_type": "code",
      "source": [
        "class Product:\n",
        "    def __init__(self, name, price, quantity):\n",
        "        self.name = name\n",
        "        self.price = price\n",
        "        self.quantity = quantity\n",
        "\n",
        "    def total_price(self):\n",
        "        return self.price * self.quantity\n",
        "\n",
        "# Demo\n",
        "p = Product(\"Laptop\", 50000, 2)\n",
        "print(\"Total price:\", p.total_price())\n"
      ],
      "metadata": {
        "colab": {
          "base_uri": "https://localhost:8080/"
        },
        "id": "eUnQd8fv976Q",
        "outputId": "be1a5665-1124-4cf7-8e26-9c40c7306768"
      },
      "execution_count": 12,
      "outputs": [
        {
          "output_type": "stream",
          "name": "stdout",
          "text": [
            "Total price: 100000\n"
          ]
        }
      ]
    },
    {
      "cell_type": "code",
      "source": [],
      "metadata": {
        "id": "9vc1MPcx99ZM"
      },
      "execution_count": null,
      "outputs": []
    },
    {
      "cell_type": "markdown",
      "source": [
        "16."
      ],
      "metadata": {
        "id": "tJzOb81q99-G"
      }
    },
    {
      "cell_type": "code",
      "source": [
        "from abc import ABC, abstractmethod\n",
        "\n",
        "class Animal(ABC):\n",
        "    @abstractmethod\n",
        "    def sound(self):\n",
        "        pass\n",
        "\n",
        "class Cow(Animal):\n",
        "    def sound(self):\n",
        "        print(\"Moo\")\n",
        "\n",
        "class Sheep(Animal):\n",
        "    def sound(self):\n",
        "        print(\"Baa\")\n",
        "\n",
        "# Demo\n",
        "animals = [Cow(), Sheep()]\n",
        "for a in animals:\n",
        "    a.sound()\n"
      ],
      "metadata": {
        "colab": {
          "base_uri": "https://localhost:8080/"
        },
        "id": "D3YN7Yno9-aR",
        "outputId": "77f8d61f-68cd-4463-b170-9016126fae7d"
      },
      "execution_count": 13,
      "outputs": [
        {
          "output_type": "stream",
          "name": "stdout",
          "text": [
            "Moo\n",
            "Baa\n"
          ]
        }
      ]
    },
    {
      "cell_type": "code",
      "source": [],
      "metadata": {
        "id": "yf3Mx53a-AbL"
      },
      "execution_count": null,
      "outputs": []
    },
    {
      "cell_type": "markdown",
      "source": [
        "17."
      ],
      "metadata": {
        "id": "UU93xTnQ-A1q"
      }
    },
    {
      "cell_type": "code",
      "source": [
        "class Book:\n",
        "    def __init__(self, title, author, year_published):\n",
        "        self.title = title\n",
        "        self.author = author\n",
        "        self.year_published = year_published\n",
        "\n",
        "    def get_book_info(self):\n",
        "        return f\"{self.title} by {self.author}, published in {self.year_published}\"\n",
        "\n",
        "# Demo\n",
        "b = Book(\"1984\", \"George Orwell\", 1949)\n",
        "print(b.get_book_info())\n"
      ],
      "metadata": {
        "colab": {
          "base_uri": "https://localhost:8080/"
        },
        "id": "sb1fP26j-Bwf",
        "outputId": "17b2e046-2c01-41e4-e544-3baac001cfa8"
      },
      "execution_count": 14,
      "outputs": [
        {
          "output_type": "stream",
          "name": "stdout",
          "text": [
            "1984 by George Orwell, published in 1949\n"
          ]
        }
      ]
    },
    {
      "cell_type": "code",
      "source": [],
      "metadata": {
        "id": "b3_JKES7-DT4"
      },
      "execution_count": null,
      "outputs": []
    },
    {
      "cell_type": "markdown",
      "source": [
        "18."
      ],
      "metadata": {
        "id": "4ZaivRxw-ELE"
      }
    },
    {
      "cell_type": "code",
      "source": [
        "class House:\n",
        "    def __init__(self, address, price):\n",
        "        self.address = address\n",
        "        self.price = price\n",
        "\n",
        "class Mansion(House):\n",
        "    def __init__(self, address, price, number_of_rooms):\n",
        "        super().__init__(address, price)\n",
        "        self.number_of_rooms = number_of_rooms\n",
        "\n",
        "# Demo\n",
        "m = Mansion(\"123 Street\", 5000000, 20)\n",
        "print(f\"Mansion at {m.address} with {m.number_of_rooms} rooms costs {m.price}\")\n"
      ],
      "metadata": {
        "colab": {
          "base_uri": "https://localhost:8080/"
        },
        "id": "A9ryQpRT-Ew5",
        "outputId": "21c3042a-f93e-4730-f9f8-a598c4f1c8f6"
      },
      "execution_count": 15,
      "outputs": [
        {
          "output_type": "stream",
          "name": "stdout",
          "text": [
            "Mansion at 123 Street with 20 rooms costs 5000000\n"
          ]
        }
      ]
    },
    {
      "cell_type": "code",
      "source": [],
      "metadata": {
        "id": "wjJIqF1Z-GAn"
      },
      "execution_count": null,
      "outputs": []
    },
    {
      "cell_type": "code",
      "source": [],
      "metadata": {
        "id": "9BTW3c7D-HFf"
      },
      "execution_count": null,
      "outputs": []
    }
  ]
}