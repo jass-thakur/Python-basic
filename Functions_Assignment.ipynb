{
  "nbformat": 4,
  "nbformat_minor": 0,
  "metadata": {
    "colab": {
      "provenance": []
    },
    "kernelspec": {
      "name": "python3",
      "display_name": "Python 3"
    },
    "language_info": {
      "name": "python"
    }
  },
  "cells": [
    {
      "cell_type": "markdown",
      "source": [
        "# **`Theory Question`**"
      ],
      "metadata": {
        "id": "dJmS4LhWO9Fn"
      }
    },
    {
      "cell_type": "markdown",
      "source": [
        "1. What is the difference between a function and a method in Python?\n",
        "\n",
        "Ans-1:\n",
        "Function :\n",
        "        A Function is defined using def key word.\n",
        "        It is Independent. We can call it directly by its name.\n",
        "\n",
        "        Eg:\n",
        "          def sum(a,b):\n",
        "              return a+b\n",
        "\n",
        "Method:\n",
        "      Method is also defined by def keyword but inside the class.\n",
        "      It always have self as the first parameter.\n",
        "      A method is call on an object.\n",
        "\n",
        "      Eg:\n",
        "        class Person:\n",
        "    def __init__(self, name):\n",
        "        self.name = name\n",
        "\n",
        "    def greet(self):   # method\n",
        "        return f\"Hello {self.name}\"\n",
        "\n",
        "p = Person(\"Jayesh\")\n",
        "print(p.greet())   # Output: Hello Jayesh\n",
        "\n"
      ],
      "metadata": {
        "id": "VNX6orkePK3r"
      }
    },
    {
      "cell_type": "code",
      "source": [],
      "metadata": {
        "id": "bNrMLTfmRdjT"
      },
      "execution_count": null,
      "outputs": []
    },
    {
      "cell_type": "markdown",
      "source": [
        "2. Explain the concept of function arguments and parameters in Python.\n",
        "\n",
        "Ans:2\n",
        "    Parameters are the variable which defined in the function defination, while arguments are the actual value which we passed in function when we call it.\n",
        "\n",
        "    Eg:\n",
        "      def product(a,b): # Here a,b are parameters\n",
        "        return a*b\n",
        "\n",
        "      product(2,3)     # Here 2,3 are arguments\n"
      ],
      "metadata": {
        "id": "jDbJWGStQiHd"
      }
    },
    {
      "cell_type": "code",
      "source": [],
      "metadata": {
        "id": "76q9dshzRaVl"
      },
      "execution_count": null,
      "outputs": []
    },
    {
      "cell_type": "markdown",
      "source": [
        "3. What are the different ways to define and call a function in Python?\n",
        "\n",
        "Ans:3\n",
        "\n",
        "Different ways to define function in Python:\n",
        "    \n",
        "1. Normal Function (using def) --> The most common way\n",
        "2. Function with default parameters\n",
        "3. Function with variable length arguments --> *args **kwargs\n",
        "4. lambda function\n",
        "5. Recursive Function\n",
        "\n",
        "Differnt ways to call the Function in Python:\n",
        "\n",
        "1. Simple call\n",
        "2. With multiple arguments\n",
        "3. Calling function with keyword arguments\n",
        "4. Calling function with default arguments"
      ],
      "metadata": {
        "id": "rAVcFAMaRfOb"
      }
    },
    {
      "cell_type": "code",
      "source": [],
      "metadata": {
        "id": "taqyxgbuS62c"
      },
      "execution_count": null,
      "outputs": []
    },
    {
      "cell_type": "markdown",
      "source": [
        "4. What is the purpose of the `return` statement in a Python function?\n",
        "\n",
        "Ans:4\n",
        "\n",
        "The return statement in a function is used to return the value from where the function is called. Stops Function execution immediately. A function without a return gives None by default."
      ],
      "metadata": {
        "id": "lps68i5hS76L"
      }
    },
    {
      "cell_type": "code",
      "source": [],
      "metadata": {
        "id": "ncP8W0elTg9P"
      },
      "execution_count": null,
      "outputs": []
    },
    {
      "cell_type": "markdown",
      "source": [
        "5. What are iterators in Python and how do they differ from iterables?\n",
        "\n",
        "Ans:5\n",
        "\n",
        "Iterator is the object in python which return the value one by one.\n",
        "Iterator created using iter(). Give next ele by next().\n",
        "\n",
        "Iterables is something in which we can loop for. Example : List, Tuple, etc.. We can iterate over them.\n",
        "\n",
        "Iterable is like collection of elements, while iterator give ele one by one."
      ],
      "metadata": {
        "id": "bAFujuXtTjwX"
      }
    },
    {
      "cell_type": "code",
      "source": [],
      "metadata": {
        "id": "JodRfxjTU8wI"
      },
      "execution_count": null,
      "outputs": []
    },
    {
      "cell_type": "markdown",
      "source": [
        "6. Explain the concept of generators in Python and how they are defined.\n",
        "\n",
        "Ans:6\n",
        "\n",
        "Generators in python is a special type of iterator, it allow us to generate value one at a time rather then storing whole in memory.\n",
        "The generator is created using function by yield() keyword.\n",
        "\n",
        "\n",
        "  Eg:\n",
        "\n",
        "    def count_up_to(n):\n",
        "    i = 1\n",
        "    while i <= n:\n",
        "        yield i   # instead of return\n",
        "        i += 1\n",
        "\n",
        "    gen = count_up_to(5)   # generator created\n",
        "    print(next(gen))  # 1\n",
        "    print(next(gen))  # 2\n"
      ],
      "metadata": {
        "id": "l0WtfIqCU_4k"
      }
    },
    {
      "cell_type": "code",
      "source": [],
      "metadata": {
        "id": "HgzrqHUKV_7f"
      },
      "execution_count": null,
      "outputs": []
    },
    {
      "cell_type": "markdown",
      "source": [
        "7. What are the advantages of using generators over regular functions?\n",
        "\n",
        "Ans:7\n",
        "\n",
        "In regular function we use return keyword to terminate the function and return the value to the function call. But the return variable first store all the values in memory then return it in one go.\n",
        "\n",
        "\n",
        "But by using generator we can solve this problem the generator return the value one by one with the help of next(), so it saves memory space."
      ],
      "metadata": {
        "id": "U-FlVgFjWPHk"
      }
    },
    {
      "cell_type": "code",
      "source": [],
      "metadata": {
        "id": "OrSAPAbWW7jj"
      },
      "execution_count": null,
      "outputs": []
    },
    {
      "cell_type": "markdown",
      "source": [
        "8. What is a lambda function in Python and when is it typically used?\n",
        "\n",
        "Ans:8\n",
        "\n",
        "Lambda Function in python is a small anonymous function (function without a name). The lambda function is define by using lambda keyword. The lambda function is the quick and small way to initilize function.\n",
        "\n",
        "Syntax:\n",
        "\n",
        "      add = lambda a,b:a+b"
      ],
      "metadata": {
        "id": "CUn0ixhcW-pl"
      }
    },
    {
      "cell_type": "code",
      "source": [],
      "metadata": {
        "id": "9xrC_xLhXqHN"
      },
      "execution_count": null,
      "outputs": []
    },
    {
      "cell_type": "markdown",
      "source": [
        "9. Explain the purpose and usage of the `map()` function in Python.\n",
        "\n",
        "Ans-9\n",
        "\n",
        "The map() function in Python is used to apply a function to each element of an iterable (like list, tuple, etc.) and return a new iterator with the results.\n",
        "\n",
        "It helps avoid writing loops manually.\n",
        "\n",
        "Syntax:\n",
        "\n",
        "      nums = [1, 2, 3, 4]\n",
        "      result = map(lambda x: x*x, nums)\n",
        "      print(list(result))   # [1, 4, 9, 16]\n"
      ],
      "metadata": {
        "id": "_n3CmdXGXueF"
      }
    },
    {
      "cell_type": "code",
      "source": [],
      "metadata": {
        "id": "yORSvG1sYNTO"
      },
      "execution_count": null,
      "outputs": []
    },
    {
      "cell_type": "markdown",
      "source": [
        "10. What is the difference between `map()`, `reduce()`, and `filter()` functions in Python?\n",
        "\n",
        "Ans-10\n",
        "\n",
        "map() --> Map function is used to apply a function to each element of an iterable(like: list,tuple,etc) and return the new iterator with the result.\n",
        "\n",
        "reduce() --> The reduce function is used to reduce the sequence to the single value. Comes from functools module.\n",
        "\n",
        "filter() --> Filter is used to filter the element in the iterable based on the condition True/False."
      ],
      "metadata": {
        "id": "svfFqBk7YN8y"
      }
    },
    {
      "cell_type": "code",
      "source": [],
      "metadata": {
        "id": "8oxuPEC4ZL3U"
      },
      "execution_count": null,
      "outputs": []
    },
    {
      "cell_type": "markdown",
      "source": [
        "11. Using pen & Paper write the internal mechanism for sum operation using  reduce function on this given.\n",
        "\n",
        "![WhatsApp Image 2025-08-20 at 22.29.09_6dafe12b.jpg](data:image/jpeg;base64,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)"
      ],
      "metadata": {
        "id": "nxTOZ73KZR3Z"
      }
    },
    {
      "cell_type": "code",
      "source": [],
      "metadata": {
        "id": "z8rGaLaIbMhK"
      },
      "execution_count": null,
      "outputs": []
    },
    {
      "cell_type": "code",
      "source": [],
      "metadata": {
        "id": "3S6la-HybOyy"
      },
      "execution_count": null,
      "outputs": []
    },
    {
      "cell_type": "code",
      "source": [],
      "metadata": {
        "id": "hyL-e0zibOhp"
      },
      "execution_count": null,
      "outputs": []
    },
    {
      "cell_type": "markdown",
      "source": [],
      "metadata": {
        "id": "uDVfBQhqbOJl"
      }
    },
    {
      "cell_type": "markdown",
      "source": [
        "# **`Coding Questions`**"
      ],
      "metadata": {
        "id": "dTZy5FhtbPIJ"
      }
    },
    {
      "cell_type": "code",
      "source": [
        "# 1. Write a Python function that takes a list of numbers as input and returns the sum of all even numbers in\n",
        "# the list.\n",
        "\n",
        "from functools import reduce\n",
        "\n",
        "l = list(range(1,11))\n",
        "even_nums = filter(lambda x: x % 2 == 0, l)\n",
        "sum_even = reduce(lambda x,y:x+y,even_nums)\n",
        "print(sum_even)"
      ],
      "metadata": {
        "colab": {
          "base_uri": "https://localhost:8080/"
        },
        "id": "Onch3GxEbTSh",
        "outputId": "b242191e-6c46-4116-a7b0-d296d922ffd4"
      },
      "execution_count": null,
      "outputs": [
        {
          "output_type": "stream",
          "name": "stdout",
          "text": [
            "30\n"
          ]
        }
      ]
    },
    {
      "cell_type": "code",
      "source": [
        "# 2. Create a Python function that accepts a string and returns the reverse of that string.\n",
        "\n",
        "def rev_str(s):\n",
        "  return s[::-1]\n",
        "\n",
        "s = \"PWskills\"\n",
        "print(rev_str(s))"
      ],
      "metadata": {
        "colab": {
          "base_uri": "https://localhost:8080/"
        },
        "id": "3iHH4LP1bkkp",
        "outputId": "0e043b7a-ac8a-46c1-cd24-66a3cf8007b7"
      },
      "execution_count": null,
      "outputs": [
        {
          "output_type": "stream",
          "name": "stdout",
          "text": [
            "slliksWP\n"
          ]
        }
      ]
    },
    {
      "cell_type": "code",
      "source": [
        "# 3. Implement a Python function that takes a list of integers and returns a new list containing the squares of\n",
        "# each number.\n",
        "\n",
        "l = list(range(1,11))\n",
        "\n",
        "sq_list = list(map(lambda x:x**2,l))\n",
        "print(sq_list)"
      ],
      "metadata": {
        "colab": {
          "base_uri": "https://localhost:8080/"
        },
        "id": "VvNyqXyadOvb",
        "outputId": "d1200419-0c8b-439f-fbf2-e458513e5fd5"
      },
      "execution_count": null,
      "outputs": [
        {
          "output_type": "stream",
          "name": "stdout",
          "text": [
            "[1, 4, 9, 16, 25, 36, 49, 64, 81, 100]\n"
          ]
        }
      ]
    },
    {
      "cell_type": "code",
      "source": [
        "# 4. Write a Python function that checks if a given number is prime or not from 1 to 200.\n",
        "\n",
        "def is_prime(n):\n",
        "  if(n <= 1):\n",
        "     return False\n",
        "  for i in range(2,n//2+1):\n",
        "    if(n % i == 0):\n",
        "      return False\n",
        "  return True\n",
        "\n",
        "num = 10\n",
        "if is_prime(num):\n",
        "  print(f\"{num} is a prime number\")\n",
        "else:\n",
        "  print(f\"{num} is not a prime number\")"
      ],
      "metadata": {
        "colab": {
          "base_uri": "https://localhost:8080/"
        },
        "id": "WFc26yp9dlob",
        "outputId": "bc7754b4-bd29-4278-bb76-eb93a2749d33"
      },
      "execution_count": null,
      "outputs": [
        {
          "output_type": "stream",
          "name": "stdout",
          "text": [
            "10 is not a prime number\n"
          ]
        }
      ]
    },
    {
      "cell_type": "code",
      "source": [
        "# 5. Create an iterator class in Python that generates the Fibonacci sequence up to a specified number of\n",
        "# terms.\n",
        "\n",
        "def fibo(n):\n",
        "  a,b = 0,1\n",
        "  for _ in range(n):\n",
        "    yield a\n",
        "    a = b\n",
        "    b = a+b\n",
        "\n",
        "n_term = 10\n",
        "for num in fibo(n_term):\n",
        "  print(num,end=\" \")"
      ],
      "metadata": {
        "colab": {
          "base_uri": "https://localhost:8080/"
        },
        "id": "7XA3UFbjetPw",
        "outputId": "d994a52f-f20b-488c-fcb7-f4cf019308b9"
      },
      "execution_count": null,
      "outputs": [
        {
          "output_type": "stream",
          "name": "stdout",
          "text": [
            "0 1 2 4 8 16 32 64 128 256 "
          ]
        }
      ]
    },
    {
      "cell_type": "code",
      "source": [
        "# 6. Write a generator function in Python that yields the powers of 2 up to a given exponent.\n",
        "\n",
        "def pow_2(n):\n",
        "  for i in range(n+1):\n",
        "    yield i**2\n",
        "\n",
        "n_term = 10\n",
        "for i in pow_2(n_term):\n",
        "  print(i,end=\" \")"
      ],
      "metadata": {
        "colab": {
          "base_uri": "https://localhost:8080/"
        },
        "id": "zxmxibIefxBP",
        "outputId": "d5d5c987-f3cd-4330-c2e0-677b6d515d82"
      },
      "execution_count": null,
      "outputs": [
        {
          "output_type": "stream",
          "name": "stdout",
          "text": [
            "0 1 4 9 16 25 36 49 64 81 100 "
          ]
        }
      ]
    },
    {
      "cell_type": "code",
      "source": [
        "# 8. Use a lambda function in Python to sort a list of tuples based on the second element of each tuple.\n",
        "\n",
        "data = [(1,2,34,56),(2,1,23,56),(7,5,89),(56,0,56,77)]\n",
        "sorted_data  = sorted(data,key=lambda x:x[1])\n",
        "print(sorted_data)"
      ],
      "metadata": {
        "colab": {
          "base_uri": "https://localhost:8080/"
        },
        "id": "O7ib2t17gcYj",
        "outputId": "65cfbf32-33d7-493e-d638-1073710a25b9"
      },
      "execution_count": null,
      "outputs": [
        {
          "output_type": "stream",
          "name": "stdout",
          "text": [
            "[(56, 0, 56, 77), (2, 1, 23, 56), (1, 2, 34, 56), (7, 5, 89)]\n"
          ]
        }
      ]
    },
    {
      "cell_type": "code",
      "source": [
        "# 9. Write a Python program that uses `map()` to convert a list of temperatures from Celsius to Fahrenheit.\n",
        "\n",
        "temp_Cel = list(range(11,21))\n",
        "temp_Fer = list(map(lambda c: (c * 9/5) + 32,temp_Cel))\n",
        "print(temp_Fer)"
      ],
      "metadata": {
        "colab": {
          "base_uri": "https://localhost:8080/"
        },
        "id": "DucSSQcChucM",
        "outputId": "c6a55266-7fc3-4187-bacc-089061fac085"
      },
      "execution_count": null,
      "outputs": [
        {
          "output_type": "stream",
          "name": "stdout",
          "text": [
            "[51.8, 53.6, 55.4, 57.2, 59.0, 60.8, 62.6, 64.4, 66.2, 68.0]\n"
          ]
        }
      ]
    },
    {
      "cell_type": "code",
      "source": [
        "# 10. Create a Python program that uses `filter()` to remove all the vowels from a given string.\n",
        "\n",
        "s = \"aeioyujs\"\n",
        "vowels = \"aeiou\"\n",
        "new_s = ''.join(filter(lambda x: x not in vowels, s))\n",
        "\n",
        "print(new_s)\n"
      ],
      "metadata": {
        "colab": {
          "base_uri": "https://localhost:8080/"
        },
        "id": "n1QvDKXSiHUR",
        "outputId": "0817acf3-80cc-4b1a-aeee-d38ec1d82036"
      },
      "execution_count": null,
      "outputs": [
        {
          "output_type": "stream",
          "name": "stdout",
          "text": [
            "yjs\n"
          ]
        }
      ]
    },
    {
      "cell_type": "code",
      "source": [
        "# 11\n",
        "\n",
        "\n",
        "orders = [\n",
        "    [34587, \"Learning Python, Mark Lutz\", 4, 40.95],\n",
        "    [98762, \"Programming Python, Mark Lutz\", 5, 56.80],\n",
        "    [77226, \"Head First Python, Paul Barry\", 3, 32.95],\n",
        "    [88112, \"Einführung in Python3, Bernd Klein\", 3, 24.99]\n",
        "]\n",
        "\n",
        "result = list(map(lambda x: (x[0], x[2] * x[3] if x[2] * x[3] >= 100 else x[2] * x[3] + 10), orders))\n",
        "\n",
        "print(result)\n"
      ],
      "metadata": {
        "id": "r7KSW_buimlO",
        "colab": {
          "base_uri": "https://localhost:8080/"
        },
        "outputId": "502b4dcd-3aed-495d-8b98-87df0a3734e3"
      },
      "execution_count": 1,
      "outputs": [
        {
          "output_type": "stream",
          "name": "stdout",
          "text": [
            "[(34587, 163.8), (98762, 284.0), (77226, 108.85000000000001), (88112, 84.97)]\n"
          ]
        }
      ]
    },
    {
      "cell_type": "code",
      "source": [],
      "metadata": {
        "id": "M-jiv5ZtZ0F3"
      },
      "execution_count": null,
      "outputs": []
    }
  ]
}