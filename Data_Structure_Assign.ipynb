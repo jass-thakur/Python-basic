{
  "nbformat": 4,
  "nbformat_minor": 0,
  "metadata": {
    "colab": {
      "provenance": []
    },
    "kernelspec": {
      "name": "python3",
      "display_name": "Python 3"
    },
    "language_info": {
      "name": "python"
    }
  },
  "cells": [
    {
      "cell_type": "markdown",
      "source": [
        "# **`Theory Questions`**"
      ],
      "metadata": {
        "id": "NkE9zs-eldql"
      }
    },
    {
      "cell_type": "code",
      "execution_count": null,
      "metadata": {
        "id": "pxOilwIpYJ_F"
      },
      "outputs": [],
      "source": [
        "# Question-1\n",
        "# What are data structures, and why are they important?\n",
        "# Answer-1\n",
        "# Data Sturcutures are the way of storing and organizing data in a better way so that it can use efficiently."
      ]
    },
    {
      "cell_type": "code",
      "source": [
        "# Question-2\n",
        "# Explain the difference between mutable and immutable data types with examples?\n",
        "# Answer-2\n",
        "# Mutable and Immutable in python are the data types which stores the data.\n",
        "# Difference between Mutable and Immutable are-->\n",
        "# 1. Mutable : The Mutable data types are those which can be changed after creation.\n",
        "#     Example : Lists,Sets,Dictionary.\n",
        "# 2. Immutabl : The Immutable data types are those which can't be modify or update one's created.\n",
        "#     Example : Tuples,Strings,int"
      ],
      "metadata": {
        "id": "PF8ANKpqZPFH"
      },
      "execution_count": null,
      "outputs": []
    },
    {
      "cell_type": "code",
      "source": [
        "# Question-3\n",
        "# What are the main differences between lists and tuples in Python?\n",
        "# Answer-3\n",
        "# The main differences between lists and tuples in python are-->\n",
        "# 1. Lists : Lists are mutable data types.\n",
        "# 2. Tuples : Tuples are immutable data types."
      ],
      "metadata": {
        "id": "T4wohyAAasG7"
      },
      "execution_count": null,
      "outputs": []
    },
    {
      "cell_type": "code",
      "source": [
        "# Question-4\n",
        "# Describe how dictionaries store data?\n",
        "# Answer-4\n",
        "# Dictionaries stores the data in key value pairs.\n",
        "# keys are unique and Immutabl / values can be duplicate and Mutable."
      ],
      "metadata": {
        "id": "vf8_oInLbDlS"
      },
      "execution_count": null,
      "outputs": []
    },
    {
      "cell_type": "code",
      "source": [
        "# Question-5\n",
        "# Why might you use a set instead of a list in Python?\n",
        "# Answer-5\n",
        "# We use set instead of a list in python because :\n",
        "# * Set didn't store duplicate data it only store unique values\n",
        "# * It automaticaly removes duplicate data from it."
      ],
      "metadata": {
        "id": "4ZHJR94kbsl5"
      },
      "execution_count": null,
      "outputs": []
    },
    {
      "cell_type": "code",
      "source": [
        "# Question-6\n",
        "# What is a string in Python, and how is it different from a list?\n",
        "# Answer-6\n",
        "# String in python is the Sequence of characters enclosed in single or double quotes.\n",
        "# String are Ordered, Immutable.\n",
        "# String are different from list, list can store any type of data and list are mutable i.e. they can update and change after creation also."
      ],
      "metadata": {
        "id": "FFmYGmD6cYKk"
      },
      "execution_count": null,
      "outputs": []
    },
    {
      "cell_type": "code",
      "source": [
        "# Question-7\n",
        "# How do tuples ensure data integrity in Python?\n",
        "# Answer-7\n",
        "# Tuples ensure data integrity in Python because they are immutabel one's they created they can't be changed and update.\n",
        "# Tuples provide a discipline and can be used where we want fixed, unchangable data."
      ],
      "metadata": {
        "id": "krvpn31Idc0c"
      },
      "execution_count": null,
      "outputs": []
    },
    {
      "cell_type": "code",
      "source": [
        "# Question-8\n",
        "# What is a hash table, and how does it relate to dictionaries in Python?\n",
        "# Answer-8\n",
        "# Hash-table is a type of data structure that stores data in the form of key:values pairs and uses hash function to decide\n",
        "# where each key values store in the memory.\n",
        "# Dictionaries also store the data in the form of key:values pairs similar to hash-table."
      ],
      "metadata": {
        "id": "FW20FFWMeYKb"
      },
      "execution_count": null,
      "outputs": []
    },
    {
      "cell_type": "code",
      "source": [
        "# Question-9\n",
        "# Can lists contain different data types in Python?\n",
        "# Answer-9\n",
        "# Yes, Lists can contain different data types in python.\n",
        "# Lists in python are heterogeneous i.e. they can store different data types."
      ],
      "metadata": {
        "id": "JZ11PbigfEW9"
      },
      "execution_count": null,
      "outputs": []
    },
    {
      "cell_type": "code",
      "source": [
        "# Question-10\n",
        "# Explain why strings are immutable in Python?\n",
        "# Answer-10\n",
        "# Strings are immutable in Python because once a string object is created, its contents cannot be changed.\n",
        "# Python makes strings immitable -->\n",
        "# 1. Safety and security\n",
        "# 2. Hashing Requrements"
      ],
      "metadata": {
        "id": "L79Fxexefdan"
      },
      "execution_count": null,
      "outputs": []
    },
    {
      "cell_type": "code",
      "source": [
        "# Question-11\n",
        "# What advantages do dictionaries offer over lists for certain tasks?\n",
        "# Answer-11\n",
        "# Dictionaries offer the following advantages over lists for certain tasks:\n",
        "# 1. Dictionaries can store the data in key:values pairs which help in to identify the frequency of the thing.\n",
        "# 2. Dictionaries can able to store list as the value.\n",
        "# 3. Dictionaries are faster than lists."
      ],
      "metadata": {
        "id": "vAGzfHktgD44"
      },
      "execution_count": null,
      "outputs": []
    },
    {
      "cell_type": "code",
      "source": [
        "# Question-12\n",
        "# Describe a scenario where using a tuple would be preferable over a list?\n",
        "# Answer-12\n",
        "# We can use tuple where we want fixed, unchangable data.\n",
        "# We want a discipline in our data so that it can't be changed or modify ones it created"
      ],
      "metadata": {
        "id": "VtFkJAHkgpfU"
      },
      "execution_count": null,
      "outputs": []
    },
    {
      "cell_type": "code",
      "source": [
        "# Question-13\n",
        "# How do sets handle duplicate values in Python?\n",
        "# Answer-13\n",
        "# Sets handle duplicate values in Python by automatically removing duplicates.\n",
        "# When we add elements to the set python calculate its hash value.\n",
        "# If another element with the same hash value is added, it will be ignored and removed."
      ],
      "metadata": {
        "id": "Xu84WzgzhBML"
      },
      "execution_count": null,
      "outputs": []
    },
    {
      "cell_type": "code",
      "source": [
        "# Question-14\n",
        "# How does the “in” keyword work differently for lists and dictionaries?\n",
        "# Answer-12\n",
        "# 1. Lists : The \"in\" keyword is used to check if an element is present in a list.\n",
        "# 2. Dictionaries : The \"in\" keyword is used to check if a key is present in a dictionary."
      ],
      "metadata": {
        "id": "1b_6nWIRhs5b"
      },
      "execution_count": null,
      "outputs": []
    },
    {
      "cell_type": "code",
      "source": [
        "# Question-15\n",
        "# Can you modify the elements of a tuple? Explain why or why not?\n",
        "# No, we can't modify the elements of a tuple because tuples are immutable."
      ],
      "metadata": {
        "id": "--ianXDZiFP7"
      },
      "execution_count": null,
      "outputs": []
    },
    {
      "cell_type": "code",
      "source": [
        "# Question-16\n",
        "# What is a nested dictionary, and give an example of its use case?\n",
        "# Answer-16\n",
        "# Nested dictionary is a dictionary inside a dictionary.\n",
        "# Use Case:\n",
        "#         Suppose we have to store student information like name,rollno,marks(of each subjest).\n",
        "#         info = {\"name\":\"jayesh\",\"roll_num\":26,\"marks\":{\"M1\":99,\"DS\":98}}"
      ],
      "metadata": {
        "id": "uo94vXb7iZl9"
      },
      "execution_count": null,
      "outputs": []
    },
    {
      "cell_type": "code",
      "source": [
        "# Question-17\n",
        "# Describe the time complexity of accessing elements in a dictionary?\n",
        "# Answer-17\n",
        "# Time Complexity of accessign elements in a dictionary is O(1).\n",
        "# Why?\n",
        "# When you access my_dict[key]:\n",
        "# Python computes the hash of the key.\n",
        "# The hash is mapped to an index in an internal array.\n",
        "# The value at that index is returned directly."
      ],
      "metadata": {
        "id": "Xr9Hv9zGjKlS"
      },
      "execution_count": null,
      "outputs": []
    },
    {
      "cell_type": "code",
      "source": [
        "# Question-18\n",
        "# In what situations are lists preferred over dictionaries?\n",
        "# Answer-18\n",
        "# situations where lists preferred over dictionaries are:\n",
        "# 1. When we don't want to store data in key value pairs.\n",
        "# 2. When you want to store duplicate data\n",
        "# 3. In lists we can access element using index number rather than keys."
      ],
      "metadata": {
        "id": "b6CybYA-jog-"
      },
      "execution_count": null,
      "outputs": []
    },
    {
      "cell_type": "code",
      "source": [
        "# Question-19\n",
        "# Why are dictionaries considered unordered, and how does that affect data retrieval?\n",
        "# Answer-19\n",
        "# Dictionaries are considered unordered because retrieval is by key, not position.\n",
        "# Pre-Python 3.7 → No guarantee of insertion order.\n",
        "# Python 3.7+ → Insertion order preserved, but still no index-based access.\n",
        "# Retrieval speed (O(1) average) comes from hash lookups, not sequence order."
      ],
      "metadata": {
        "id": "nU8ZgqamkSFI"
      },
      "execution_count": null,
      "outputs": []
    },
    {
      "cell_type": "code",
      "source": [
        "# from ast import Index\n",
        "# Question-20\n",
        "# Explain the difference between a list and a dictionary in terms of data retrieval?\n",
        "# Answer-20\n",
        "# Lists : * Retrieval by index.\n",
        "#         * O(1) index Retrieval\n",
        "#         * Ordered Index\n",
        "# Dictionaries : * Retrieval by key.\n",
        "#                * O(1) key Retrieval\n",
        "#                * Unordered Key"
      ],
      "metadata": {
        "id": "wJZTdCRsk0jD"
      },
      "execution_count": null,
      "outputs": []
    },
    {
      "cell_type": "code",
      "source": [],
      "metadata": {
        "id": "BPOKQiJ1lbzx"
      },
      "execution_count": null,
      "outputs": []
    },
    {
      "cell_type": "markdown",
      "source": [
        "# *`Coding Questions`*"
      ],
      "metadata": {
        "id": "RAwRh-37lnmr"
      }
    },
    {
      "cell_type": "code",
      "source": [
        "# 1. Write a code to create a string with your name and print it.\n",
        "\n",
        "name = \"Jayesh Thakur\"\n",
        "print(\"My name is :\",name)"
      ],
      "metadata": {
        "colab": {
          "base_uri": "https://localhost:8080/"
        },
        "id": "guV9CqfalrrA",
        "outputId": "70f40219-5901-4cb4-82e9-f4aa4189b879"
      },
      "execution_count": null,
      "outputs": [
        {
          "output_type": "stream",
          "name": "stdout",
          "text": [
            "My name is : Jayesh Thakur\n"
          ]
        }
      ]
    },
    {
      "cell_type": "code",
      "source": [
        "# 2. Write a code to find the length of the string \"Hello World\".\n",
        "\n",
        "greet = \"Hello World\"\n",
        "print(\"Length is :\",len(greet))"
      ],
      "metadata": {
        "colab": {
          "base_uri": "https://localhost:8080/"
        },
        "id": "ZRCwj_6Ul4Vy",
        "outputId": "c4b44808-388e-45da-f822-00533e517ba6"
      },
      "execution_count": null,
      "outputs": [
        {
          "output_type": "stream",
          "name": "stdout",
          "text": [
            "Length is : 11\n"
          ]
        }
      ]
    },
    {
      "cell_type": "code",
      "source": [
        "# 3. Write a code to slice the first 3 characters from the string \"Python Programming\"\n",
        "\n",
        "lang = \"Python Programming\"\n",
        "print(lang[0:3])"
      ],
      "metadata": {
        "colab": {
          "base_uri": "https://localhost:8080/"
        },
        "id": "kbD9A2qrmH4c",
        "outputId": "872dd149-77ec-42b2-9e4b-aedef282d092"
      },
      "execution_count": null,
      "outputs": [
        {
          "output_type": "stream",
          "name": "stdout",
          "text": [
            "Pyt\n"
          ]
        }
      ]
    },
    {
      "cell_type": "code",
      "source": [
        "# 4. P Write a code to convert the string \"hello\" to uppercase.\n",
        "mess = \"hello\"\n",
        "print(mess.upper())"
      ],
      "metadata": {
        "colab": {
          "base_uri": "https://localhost:8080/"
        },
        "id": "8YiQZwGrmc7_",
        "outputId": "eb73b9ad-c6dc-4dce-f420-3cb17b47489e"
      },
      "execution_count": null,
      "outputs": [
        {
          "output_type": "stream",
          "name": "stdout",
          "text": [
            "HELLO\n"
          ]
        }
      ]
    },
    {
      "cell_type": "code",
      "source": [
        "# 5. Write a code to replace the word \"apple\" with \"orange\" in the string \"I like apple.\n",
        "fruit = \"I like apple\"\n",
        "print(fruit.replace(\"apple\",\"oragne\"))\n"
      ],
      "metadata": {
        "colab": {
          "base_uri": "https://localhost:8080/"
        },
        "id": "ZbWRAjxmmm46",
        "outputId": "128a21cf-460a-4730-a23b-69135c0656c6"
      },
      "execution_count": null,
      "outputs": [
        {
          "output_type": "stream",
          "name": "stdout",
          "text": [
            "I like oragne\n"
          ]
        }
      ]
    },
    {
      "cell_type": "code",
      "source": [
        "# 6. Write a code to create a list with numbers 1 to 5 and print it\n",
        "l = [i for i in range(1,6)]\n",
        "print(l)"
      ],
      "metadata": {
        "colab": {
          "base_uri": "https://localhost:8080/"
        },
        "id": "totO6fnTm1Ah",
        "outputId": "f1293d65-a3bc-42dc-824c-c6ace6ea030d"
      },
      "execution_count": null,
      "outputs": [
        {
          "output_type": "stream",
          "name": "stdout",
          "text": [
            "[1, 2, 3, 4, 5]\n"
          ]
        }
      ]
    },
    {
      "cell_type": "code",
      "source": [
        "# 7. Write a code to append the number 10 to the list [1, 2, 3, 4]\n",
        "l2 = [1,2,3,4]\n",
        "l2.append(10)\n",
        "print(l2)"
      ],
      "metadata": {
        "colab": {
          "base_uri": "https://localhost:8080/"
        },
        "id": "wZnCUY9BnWEA",
        "outputId": "df49dc99-ce21-4710-9bf2-9e2e724f59e9"
      },
      "execution_count": null,
      "outputs": [
        {
          "output_type": "stream",
          "name": "stdout",
          "text": [
            "[1, 2, 3, 4, 10]\n"
          ]
        }
      ]
    },
    {
      "cell_type": "code",
      "source": [
        "# 8. Write a code to remove the number 3 from the list [1, 2, 3, 4, 5]\n",
        "l3 = [1,2,3,4,5]\n",
        "l3.remove(3)\n",
        "print(l3)"
      ],
      "metadata": {
        "colab": {
          "base_uri": "https://localhost:8080/"
        },
        "id": "9ehDSzHzno-8",
        "outputId": "90a77b5b-a2c8-4f73-9ccb-e7207e748f5e"
      },
      "execution_count": null,
      "outputs": [
        {
          "output_type": "stream",
          "name": "stdout",
          "text": [
            "[1, 2, 4, 5]\n"
          ]
        }
      ]
    },
    {
      "cell_type": "code",
      "source": [
        "# 9. Write a code to access the second element in the list ['a', 'b', 'c', 'd']\n",
        "l4 = ['a','b','c','d']\n",
        "print(l4[1])\n"
      ],
      "metadata": {
        "colab": {
          "base_uri": "https://localhost:8080/"
        },
        "id": "GFv7bbC9n2JD",
        "outputId": "b864a416-bb3f-4bac-e006-525862aabec9"
      },
      "execution_count": null,
      "outputs": [
        {
          "output_type": "stream",
          "name": "stdout",
          "text": [
            "b\n"
          ]
        }
      ]
    },
    {
      "cell_type": "code",
      "source": [
        "# 10. Write a code to reverse the list [10, 20, 30, 40, 50].\n",
        "l5 = [10, 20, 30, 40, 50]\n",
        "print(l5[::-1])"
      ],
      "metadata": {
        "colab": {
          "base_uri": "https://localhost:8080/"
        },
        "id": "M4tBsXZOoDY0",
        "outputId": "54b13cb1-3af5-4bd3-e2dd-31c2f7862b6a"
      },
      "execution_count": null,
      "outputs": [
        {
          "output_type": "stream",
          "name": "stdout",
          "text": [
            "[50, 40, 30, 20, 10]\n"
          ]
        }
      ]
    },
    {
      "cell_type": "code",
      "source": [
        "# 11.  Write a code to create a tuple with the elements 100, 200, 300 and print it\n",
        "t = (100,200,300)\n",
        "print(type(t))\n",
        "print(t)"
      ],
      "metadata": {
        "id": "-Fq3no2koNZL",
        "colab": {
          "base_uri": "https://localhost:8080/"
        },
        "outputId": "eef7e2cc-ebf6-48e9-a207-1a51bccbc597"
      },
      "execution_count": 1,
      "outputs": [
        {
          "output_type": "stream",
          "name": "stdout",
          "text": [
            "<class 'tuple'>\n",
            "(100, 200, 300)\n"
          ]
        }
      ]
    },
    {
      "cell_type": "code",
      "source": [
        "# 12. Write a code to access the second-to-last element of the tuple ('red', 'green', 'blue', 'yellow').\n",
        "t2 = ('red', 'green', 'blue', 'yellow')\n",
        "print(t2[-2])"
      ],
      "metadata": {
        "colab": {
          "base_uri": "https://localhost:8080/"
        },
        "id": "NYgKUggC90RT",
        "outputId": "fd7a8856-2c1f-45dd-c437-e6cc98ebb105"
      },
      "execution_count": 12,
      "outputs": [
        {
          "output_type": "stream",
          "name": "stdout",
          "text": [
            "blue\n"
          ]
        }
      ]
    },
    {
      "cell_type": "code",
      "source": [
        "# 13. Write a code to find the minimum number in the tuple (10, 20, 5, 15)\n",
        "t3 = (10,20,5,15)\n",
        "minimum = min(t3)\n",
        "print(f\"The minimum number in the tuple {t3} is {minimum}\")"
      ],
      "metadata": {
        "colab": {
          "base_uri": "https://localhost:8080/"
        },
        "id": "t2EGhmZS-FFx",
        "outputId": "f3515797-802d-4e34-b8b6-791e6c4a47d5"
      },
      "execution_count": 13,
      "outputs": [
        {
          "output_type": "stream",
          "name": "stdout",
          "text": [
            "The minimum number in the tuple (10, 20, 5, 15) is 5\n"
          ]
        }
      ]
    },
    {
      "cell_type": "code",
      "source": [
        "# 14 Write a code to find the index of the element \"cat\" in the tuple ('dog', 'cat', 'rabbit').\n",
        "t4 = ('dog', 'cat', 'rabbit')\n",
        "indx = t4.index(\"cat\")\n",
        "print(indx)"
      ],
      "metadata": {
        "colab": {
          "base_uri": "https://localhost:8080/"
        },
        "id": "xyLiP6BT_B_q",
        "outputId": "ef9168ca-1c85-43cc-b472-e77ecb001e42"
      },
      "execution_count": 14,
      "outputs": [
        {
          "output_type": "stream",
          "name": "stdout",
          "text": [
            "1\n"
          ]
        }
      ]
    },
    {
      "cell_type": "code",
      "source": [
        "# 15. Write a code to create a tuple containing three different fruits and check if \"kiwi\" is in it\n",
        "fruits = (\"banana\",\"mango\",\"kiwi\")\n",
        "check = (\"kiwi\" in fruits)\n",
        "if check == True:\n",
        "  print(\"kiwi is present in the tuple :\",fruits)\n",
        "else:\n",
        "  print(\"kiwi is not present in the tuple :\",fruits)"
      ],
      "metadata": {
        "colab": {
          "base_uri": "https://localhost:8080/"
        },
        "id": "-8mQbSUdATS7",
        "outputId": "dcbf7da6-796e-4f88-ed97-4e163e7ccb1a"
      },
      "execution_count": 17,
      "outputs": [
        {
          "output_type": "stream",
          "name": "stdout",
          "text": [
            "kiwi is present in the tuple : ('banana', 'mango', 'kiwi')\n"
          ]
        }
      ]
    },
    {
      "cell_type": "code",
      "source": [
        "# 16.  Write a code to create a set with the elements 'a', 'b', 'c' and print it.\n",
        "s1 = {'a','b','c'}\n",
        "print(type(s1))"
      ],
      "metadata": {
        "colab": {
          "base_uri": "https://localhost:8080/"
        },
        "id": "2Muz6He9A7P8",
        "outputId": "ba4e8f5b-3d79-46c6-89fe-115f006cafa3"
      },
      "execution_count": 18,
      "outputs": [
        {
          "output_type": "stream",
          "name": "stdout",
          "text": [
            "<class 'set'>\n"
          ]
        }
      ]
    },
    {
      "cell_type": "code",
      "source": [
        "# 17. Write a code to clear all elements from the set {1, 2, 3, 4, 5}\n",
        "s2 = {1,2,3,4,5}\n",
        "s2.clear()\n",
        "print(s2)"
      ],
      "metadata": {
        "colab": {
          "base_uri": "https://localhost:8080/"
        },
        "id": "alDNaZ4SBtk_",
        "outputId": "f819867d-d285-4488-b257-aa97a3fc9046"
      },
      "execution_count": 33,
      "outputs": [
        {
          "output_type": "stream",
          "name": "stdout",
          "text": [
            "set()\n"
          ]
        }
      ]
    },
    {
      "cell_type": "code",
      "source": [
        "# 18.  Write a code to remove the element 4 from the set {1, 2, 3, 4}\n",
        "s3 = {1,2,3,4}\n",
        "s3.remove(4)\n",
        "print(s3)"
      ],
      "metadata": {
        "colab": {
          "base_uri": "https://localhost:8080/"
        },
        "id": "D0XAteIxBzfE",
        "outputId": "43f84920-5fce-4c9d-ff5c-5e8071078baa"
      },
      "execution_count": 36,
      "outputs": [
        {
          "output_type": "stream",
          "name": "stdout",
          "text": [
            "{1, 2, 3}\n"
          ]
        }
      ]
    },
    {
      "cell_type": "code",
      "source": [
        "# 19. Write a code to find the union of two sets {1, 2, 3} and {3, 4, 5}.\n",
        "s1 = {1,2,3}\n",
        "s2 = {3,4,5}\n",
        "union = s1 | s2\n",
        "print(union)"
      ],
      "metadata": {
        "colab": {
          "base_uri": "https://localhost:8080/"
        },
        "id": "IDJ4EghaB288",
        "outputId": "9624ccbc-d26c-415c-d164-eec5c8f4bbf3"
      },
      "execution_count": 37,
      "outputs": [
        {
          "output_type": "stream",
          "name": "stdout",
          "text": [
            "{1, 2, 3, 4, 5}\n"
          ]
        }
      ]
    },
    {
      "cell_type": "code",
      "source": [
        "# 20. Write a code to find the intersection of two sets {1, 2, 3} and {2, 3, 4}.\n",
        "s1 = {1,2,3}\n",
        "s2 = {2,3,4}\n",
        "inter = s1 & s2\n",
        "print(inter)"
      ],
      "metadata": {
        "colab": {
          "base_uri": "https://localhost:8080/"
        },
        "id": "v7Dt3QnXB_19",
        "outputId": "93475f13-356d-4c23-ee26-4e0b44bd25c8"
      },
      "execution_count": 38,
      "outputs": [
        {
          "output_type": "stream",
          "name": "stdout",
          "text": [
            "{2, 3}\n"
          ]
        }
      ]
    },
    {
      "cell_type": "code",
      "source": [
        "# 21. Write a code to create a dictionary with the keys \"name\", \"age\", and \"city\", and print it.\n",
        "d = {\"name\":[\"Jayesh\",\"Vidhi\",\"Pw_skills\"],\"age\":[19,20,23],\"city\":[\"Bhopal\",\"Berlin\",\"Tokyo\"]}\n",
        "print(type(d))\n",
        "print(d)"
      ],
      "metadata": {
        "colab": {
          "base_uri": "https://localhost:8080/"
        },
        "id": "v6QjkhxMCAzr",
        "outputId": "36db9a63-2ed6-4578-babd-d8be85ffab89"
      },
      "execution_count": 40,
      "outputs": [
        {
          "output_type": "stream",
          "name": "stdout",
          "text": [
            "<class 'dict'>\n",
            "{'name': ['Jayesh', 'Vidhi', 'Pw_skills'], 'age': [19, 20, 23], 'city': ['Bhopal', 'Berlin', 'Tokyo']}\n"
          ]
        }
      ]
    },
    {
      "cell_type": "code",
      "source": [
        "# 22. Write a code to add a new key-value pair \"country\": \"USA\" to the dictionary {'name': 'John', 'age': 25}.\n",
        "data = {'name':\"John\",\"age\":25}\n",
        "print(data)\n",
        "data[\"country\"] = \"USA\"\n",
        "print(data)"
      ],
      "metadata": {
        "colab": {
          "base_uri": "https://localhost:8080/"
        },
        "id": "jKW2mMgjCFp8",
        "outputId": "654ac059-d981-4f0e-f408-fc38686c66d2"
      },
      "execution_count": 46,
      "outputs": [
        {
          "output_type": "stream",
          "name": "stdout",
          "text": [
            "{'name': 'John', 'age': 25}\n",
            "{'name': 'John', 'age': 25, 'country': 'USA'}\n"
          ]
        }
      ]
    },
    {
      "cell_type": "code",
      "source": [
        "# 23. Write a code to access the value associated with the key \"name\" in the dictionary {'name': 'Alice', 'age': 30}.\n",
        "info = {\"name\":\"Alice\",\"age\":30}\n",
        "print(info[\"name\"])"
      ],
      "metadata": {
        "colab": {
          "base_uri": "https://localhost:8080/"
        },
        "id": "sutEZGXeCHDX",
        "outputId": "fbbc1cf8-e97b-41d3-ef51-89f6e3342a4a"
      },
      "execution_count": 47,
      "outputs": [
        {
          "output_type": "stream",
          "name": "stdout",
          "text": [
            "Alice\n"
          ]
        }
      ]
    },
    {
      "cell_type": "code",
      "source": [
        "# 24. Write a code to remove the key \"age\" from the dictionary {'name': 'Bob', 'age': 22, 'city': 'New York'}.\n",
        "detail = {\"name\":\"Bob\",\"age\":22,\"city\":\"New York\"}\n",
        "print(detail)\n",
        "detail.pop(\"age\")\n",
        "print(detail)"
      ],
      "metadata": {
        "colab": {
          "base_uri": "https://localhost:8080/"
        },
        "id": "3K9SR-HoCJFW",
        "outputId": "5daf9316-1f92-4f1f-af65-403b4d509235"
      },
      "execution_count": 51,
      "outputs": [
        {
          "output_type": "stream",
          "name": "stdout",
          "text": [
            "{'name': 'Bob', 'age': 22, 'city': 'New York'}\n",
            "{'name': 'Bob', 'city': 'New York'}\n"
          ]
        }
      ]
    },
    {
      "cell_type": "code",
      "source": [
        "# 25. Write a code to check if the key \"city\" exists in the dictionary {'name': 'Alice', 'city': 'Paris'}.\n",
        "info = {'name': 'Alice', 'city': 'Paris'}\n",
        "exists = (\"city\" in info)\n",
        "if exists:\n",
        "    print(\"Yes city exists\")\n",
        "else:\n",
        "    print(\"No city not exists\")"
      ],
      "metadata": {
        "colab": {
          "base_uri": "https://localhost:8080/"
        },
        "id": "26wUWFnzCLTs",
        "outputId": "78fbd677-a049-4ca6-86a6-8f155f024ef3"
      },
      "execution_count": 53,
      "outputs": [
        {
          "output_type": "stream",
          "name": "stdout",
          "text": [
            "Yes city exists\n"
          ]
        }
      ]
    },
    {
      "cell_type": "code",
      "source": [
        "# 26. Write a code to create a list, a tuple, and a dictionary, and print them all.\n",
        "li = [1,2,3,4,5]\n",
        "tup = (1,2,3,4,2)\n",
        "dic = {\"name\":\"jayesh\",\"age\":19}\n",
        "print(type(li))\n",
        "print(li)\n",
        "print(type(tup))\n",
        "print(tup)\n",
        "print(type(dic))\n",
        "print(dic)"
      ],
      "metadata": {
        "colab": {
          "base_uri": "https://localhost:8080/"
        },
        "id": "Gq1D4MxCCN7F",
        "outputId": "89a80bf6-9bf4-45ae-cf26-002c3a818b8b"
      },
      "execution_count": 54,
      "outputs": [
        {
          "output_type": "stream",
          "name": "stdout",
          "text": [
            "<class 'list'>\n",
            "[1, 2, 3, 4, 5]\n",
            "<class 'tuple'>\n",
            "(1, 2, 3, 4, 2)\n",
            "<class 'dict'>\n",
            "{'name': 'jayesh', 'age': 19}\n"
          ]
        }
      ]
    },
    {
      "cell_type": "code",
      "source": [
        "# 27. Write a code to create a list of 5 random numbers between 1 and 100, sort it in ascending order, and print the\n",
        "# result.(replaced)\n",
        "import random\n",
        "\n",
        "numbers = [random.randint(1,100) for _ in range(5)]\n",
        "print(numbers)\n",
        "numbers.sort()\n",
        "print(\"Sorted list in ascending order --> \")\n",
        "print(numbers)"
      ],
      "metadata": {
        "colab": {
          "base_uri": "https://localhost:8080/"
        },
        "id": "pK9476N9CPtJ",
        "outputId": "9f5aa982-9d1e-4077-ffa7-a719546081e8"
      },
      "execution_count": 57,
      "outputs": [
        {
          "output_type": "stream",
          "name": "stdout",
          "text": [
            "[29, 85, 86, 60, 42]\n",
            "Sorted list in ascending order --> \n",
            "[29, 42, 60, 85, 86]\n"
          ]
        }
      ]
    },
    {
      "cell_type": "code",
      "source": [
        "# 28. Write a code to create a list with strings and print the element at the third index.\n",
        "web_series = [\"Stranger Things\",\"Money Heist\",\"Game of Thrones\",\"Lucifer\",\"Mirzapur\",\"Panchayat\"]\n",
        "print(web_series[3])"
      ],
      "metadata": {
        "colab": {
          "base_uri": "https://localhost:8080/"
        },
        "id": "y5V3B-CUCSuO",
        "outputId": "ff87b56b-a4e0-4128-fe25-f4d03af9546d"
      },
      "execution_count": 58,
      "outputs": [
        {
          "output_type": "stream",
          "name": "stdout",
          "text": [
            "Lucifer\n"
          ]
        }
      ]
    },
    {
      "cell_type": "code",
      "source": [
        "# 29. Write a code to combine two dictionaries into one and print the result.\n",
        "dic1 = {\"name\":\"Jayesh\",\"age\":19}\n",
        "dic2 = {\"add\":\"Bhopal\",\"con\":\"123\"}\n",
        "dic3 = dic1 | dic2\n",
        "dic3"
      ],
      "metadata": {
        "colab": {
          "base_uri": "https://localhost:8080/"
        },
        "id": "JdwczURZCUvV",
        "outputId": "d5333f27-0e12-4d6c-922d-89915367ea97"
      },
      "execution_count": 63,
      "outputs": [
        {
          "output_type": "execute_result",
          "data": {
            "text/plain": [
              "{'name': 'Jayesh', 'age': 19, 'add': 'Bhopal', 'con': '123'}"
            ]
          },
          "metadata": {},
          "execution_count": 63
        }
      ]
    },
    {
      "cell_type": "code",
      "source": [
        "# 30. Write a code to convert a list of strings into a set.\n",
        "web_series = [\"Stranger Things\",\"Money Heist\",\"Game of Thrones\",\"Game of Thrones\",\"Lucifer\",\"Mirzapur\",\"Panchayat\"]\n",
        "set_web = set(web_series)\n",
        "print(type(set_web))\n",
        "print(set_web)"
      ],
      "metadata": {
        "colab": {
          "base_uri": "https://localhost:8080/"
        },
        "id": "cvU2Oel0CWpb",
        "outputId": "718ee9f6-9293-4052-feee-07d58f1ea668"
      },
      "execution_count": 66,
      "outputs": [
        {
          "output_type": "stream",
          "name": "stdout",
          "text": [
            "<class 'set'>\n",
            "{'Game of Thrones', 'Panchayat', 'Money Heist', 'Mirzapur', 'Stranger Things', 'Lucifer'}\n"
          ]
        }
      ]
    },
    {
      "cell_type": "code",
      "source": [],
      "metadata": {
        "id": "wcgMjb09In7l"
      },
      "execution_count": null,
      "outputs": []
    }
  ]
}