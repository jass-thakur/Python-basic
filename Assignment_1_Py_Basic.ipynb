{
  "nbformat": 4,
  "nbformat_minor": 0,
  "metadata": {
    "colab": {
      "provenance": []
    },
    "kernelspec": {
      "name": "python3",
      "display_name": "Python 3"
    },
    "language_info": {
      "name": "python"
    }
  },
  "cells": [
    {
      "cell_type": "code",
      "execution_count": null,
      "metadata": {
        "id": "COrj_Jb114Da"
      },
      "outputs": [],
      "source": []
    },
    {
      "cell_type": "markdown",
      "source": [
        "**`Python Basics Questions`**"
      ],
      "metadata": {
        "id": "C_4nqYJLI1a3"
      }
    },
    {
      "cell_type": "code",
      "source": [
        "\n",
        "---------------------------------------------------------------------------------------------------------------------------------------------\n",
        "\n",
        "# Question 1: What is Python, and why is it popular?\n",
        "# Answer-1:\n",
        "# Python is one of the programming languages that is widely used in the tech industry. Python is a straightforward and user-friendly programming language.\n",
        "# # Why is Python popular\n",
        "# *   It is versatile\n",
        "# *   Use in tech industries\n",
        "# *   Use in Data Science\n",
        "# *   Have an active community\n",
        "# *   Extensive libraries\n",
        "# *   Simple syntax\n",
        "\n",
        "---------------------------------------------------------------------------------------------------------------------------------------------\n",
        "\n",
        "# Question 2: What is an interpreter in Python?\n",
        "# Answer-2:\n",
        "# An interpreter is a program that directly executes the source code, which is written in the Python programming language.\n",
        "# Unlike compiled languages, which require a separate compilation step to convert the source code into machine code.\n",
        "# The Python interpreter reads the code and executes it line by line. The Python interpreter reads the code and executes it line by line.\n",
        "\n",
        "\n",
        "---------------------------------------------------------------------------------------------------------------------------------------------\n",
        "\n",
        "# Question 3: What are pre-defined keywords in Python?\n",
        "# Answer-3:\n",
        "# The pre-defined keywords are those words in Python that have a special meaning in Python, and they are pre-defined; they have a unique name, name and the programmer can't use Python keywords as variable name.\n",
        "# Some python pre-defined keywords are:-\n",
        "# *   int\n",
        "# *   float\n",
        "# *   bool\n",
        "# *   for\n",
        "# *   while\n",
        "# *   is\n",
        "# *   in\n",
        "# *   list\n",
        "# *   tuple, etc..\n",
        "\n",
        "---------------------------------------------------------------------------------------------------------------------------------------------\n",
        "\n",
        "# Question 4: Can keywords be used as variable names?\n",
        "# Answer-4:\n",
        "# No, we cannot use Python keywords as variable names. Keywords are reserved words with predefined meanings.\n",
        "\n",
        "---------------------------------------------------------------------------------------------------------------------------------------------\n",
        "\n",
        "# Question 5: What is mutability in Python?\n",
        "# Answer-5:\n",
        "# Mutability means in Python that once we create something, we can update or modify it in the future.\n",
        "# Example: A Tuple, once it is created, can be further modified.\n",
        "\n",
        "---------------------------------------------------------------------------------------------------------------------------------------------\n",
        "\n",
        "# Question 6: Why are lists mutable, but tuples are immutable?\n",
        "# Answer-6:\n",
        "# Lists are mutable because once the list is created, we can further modify it.\n",
        "# Tuples are immutable because once the tuple is created, the tuple is created we can't modify it under any circumstances.\n",
        "\n",
        "---------------------------------------------------------------------------------------------------------------------------------------------\n",
        "\n",
        "# Question 7: What is the difference between “==” and “is” operators in Python?\n",
        "# Answer-7:\n",
        "# Differnce between \"==\" and \"=\".\n",
        "# * \"=\" the single equal to sign is used for assigning the something In Python,.\n",
        "# Example (x = 4), i.e., the value 4 is assigned to x.\n",
        "# * \"==\" the double equal to sign means comparing something.\n",
        "# Example: let (a=4) i.e. (a==4)\n",
        "\n",
        "---------------------------------------------------------------------------------------------------------------------------------------------\n",
        "\n",
        "# Question 8: What are logical operators in Python?\n",
        "# Answer-8:\n",
        "# Logical operators in Python are used to combine or modify the Boolean expression, which evaluates to either True or False.\n",
        "# There are three logical operators in Python:\n",
        "# * and (Logical AND): If both conditions are True, then the output is True.\n",
        "# * or (Logical OR): Return True if any one condition is True.\n",
        "# * not (Logical NOT) : If True it return False and vice-versa.\n",
        "\n",
        "---------------------------------------------------------------------------------------------------------------------------------------------\n",
        "\n",
        "# Question 9: What is type casting in Python?\n",
        "# Answer-9:\n",
        "# Type Casting in Python also known as type conversion is the process of converting one data type to another.\n",
        "\n",
        "---------------------------------------------------------------------------------------------------------------------------------------------\n",
        "\n",
        "# Question 10:What is the difference between implicit and explicit type casting?\n",
        "# Answer-10:\n",
        "# * Implicit type casting: In implicit type casting, the interpreter Automatically converts one data type to another without explicit instructions from the programmer.\n",
        "# Ex: if we write (a = 4), the py interpreter automatically converts it into int. (x = 2.3) float, (flag = True) bool, etc..\n",
        "\n",
        "# * Explicit type casting: In explicit type casting, the programmer manually converts the data type of the variable.\n",
        "# Ex: if (x = '4') it is in string, but we can convert it into int ( a = int(x) ), now it is converted into int.\n",
        "\n",
        "---------------------------------------------------------------------------------------------------------------------------------------------\n",
        "\n",
        "# Question 11: What is the purpose of conditional statements in Python?\n",
        "# Answer-11:\n",
        "# Conditional statements is Python helps us to make decision in program.\n",
        "# Like: if(marks is greater than 33) then pass, else fail\n",
        "# code: if(marks > 33):\n",
        "#           print(\"Pass\")\n",
        "#       Else:\n",
        "#           print(\"Fail\")\n",
        "\n",
        "---------------------------------------------------------------------------------------------------------------------------------------------\n",
        "\n",
        "# Question 12: How does the elif statement work?\n",
        "# Answer-12:\n",
        "# We use an elif statement when we have to check multiple statements.\n",
        "# Working:\n",
        "# 1. First, it checks the \"if\" condition\n",
        "# 2. If the \"if\" statement is True, the \"if\" condition\n",
        "# 2. If the \"if\" statement is True, then it executes the if block and skips everything.\n",
        "# 3. If the \"if\" is False then it checks the \"elif\" condition.\n",
        "# 4. If \"elif\" is True, then it executes that block of code.\n",
        "# 5. If none are True, that block of code.\n",
        "# 5. If none are True, then it executes the \"else\".\n",
        "\n",
        "---------------------------------------------------------------------------------------------------------------------------------------------\n",
        "\n",
        "# Question 13: 8 What is the difference between for and while loops?\n",
        "# Answer-13:\n",
        "# The main difference between for and while loops lies in their structure and when each is most appropriately used.\n",
        "# * The for loop is used when the number of iterations is known beforehand.\n",
        "# * The while loop is used when we don't know how many times to repeat the loop.\n",
        "# * The for loop is controlled by a sequence like a list, range, Etc..\n",
        "# * The while loop is controlled by a condition.\n",
        "\n",
        "---------------------------------------------------------------------------------------------------------------------------------------------\n",
        "\n",
        "# Question 14: Describe a scenario where a while loop is more suitable than a for loop.\n",
        "# Answer-14:\n",
        "# Let's discuss a scenario where a while loop is more suitable than a for loop:-\n",
        "# Suppose we want to create a system where the user keep trying to enter the password until it enter the correct.\n",
        "# Code:\n",
        "# corr_pass = \"0001\"\n",
        "# user_pass = \"\"\n",
        "# while (corr_pass != user_pass):\n",
        "#     user_pass = input(\"Enter your password : \")\n",
        "# else:\n",
        "#     print(\"Login Succefull\")\n",
        "\n",
        "---------------------------------------------------------------------------------------------------------------------------------------------"
      ],
      "metadata": {
        "id": "5zwWVAvyHvZ8"
      },
      "execution_count": null,
      "outputs": []
    },
    {
      "cell_type": "code",
      "source": [],
      "metadata": {
        "id": "oid3GxRkIPij"
      },
      "execution_count": null,
      "outputs": []
    },
    {
      "cell_type": "markdown",
      "source": [
        "**`Practical Questions`**"
      ],
      "metadata": {
        "id": "7_WKUrzXI9EJ"
      }
    },
    {
      "cell_type": "code",
      "source": [
        "print(\"Hellow World!\")"
      ],
      "metadata": {
        "colab": {
          "base_uri": "https://localhost:8080/"
        },
        "id": "PRhucQpsI6xk",
        "outputId": "dbaa6033-e5f5-421a-c60f-30f6216a0783"
      },
      "execution_count": null,
      "outputs": [
        {
          "output_type": "stream",
          "name": "stdout",
          "text": [
            "Hellow World!\n"
          ]
        }
      ]
    },
    {
      "cell_type": "code",
      "source": [
        "name = \"Jayesh Thakur\"\n",
        "age = 21\n",
        "print(\"My name is:\",name)\n",
        "print(\"My age is:\",age)"
      ],
      "metadata": {
        "colab": {
          "base_uri": "https://localhost:8080/"
        },
        "id": "u6f1WYeHJTVB",
        "outputId": "dd3a627f-7341-4394-e2f6-3f2498ce9612"
      },
      "execution_count": null,
      "outputs": [
        {
          "output_type": "stream",
          "name": "stdout",
          "text": [
            "My name is: Jayesh Thakur\n",
            "My age is: 21\n"
          ]
        }
      ]
    },
    {
      "cell_type": "code",
      "source": [
        "import keyword\n",
        "print(keyword.kwlist)"
      ],
      "metadata": {
        "colab": {
          "base_uri": "https://localhost:8080/"
        },
        "id": "6S0W32CPJenr",
        "outputId": "5f525e99-b226-4588-faea-a714c031ed70"
      },
      "execution_count": null,
      "outputs": [
        {
          "output_type": "stream",
          "name": "stdout",
          "text": [
            "['False', 'None', 'True', 'and', 'as', 'assert', 'async', 'await', 'break', 'class', 'continue', 'def', 'del', 'elif', 'else', 'except', 'finally', 'for', 'from', 'global', 'if', 'import', 'in', 'is', 'lambda', 'nonlocal', 'not', 'or', 'pass', 'raise', 'return', 'try', 'while', 'with', 'yield']\n"
          ]
        }
      ]
    },
    {
      "cell_type": "code",
      "source": [
        "import keyword\n",
        "word = input(\"Enter a word:\")\n",
        "if keyword.iskeyword(word):\n",
        "  print(word,\"is a keyword\")\n",
        "else:\n",
        "  print(word,\"is not a keyword\")"
      ],
      "metadata": {
        "colab": {
          "base_uri": "https://localhost:8080/"
        },
        "id": "5m0yWjcOJmk9",
        "outputId": "d09b3373-37fa-4cbb-b28d-fb0373665bd1"
      },
      "execution_count": null,
      "outputs": [
        {
          "output_type": "stream",
          "name": "stdout",
          "text": [
            "Enter a word:while\n",
            "while is a keyword\n"
          ]
        }
      ]
    },
    {
      "cell_type": "code",
      "source": [
        "l1 = [12,13,14,15]\n",
        "l1[0] = 11 # l1 will change because list is mutable\n",
        "print(l1)\n",
        "\n",
        "t1 = (12,13,14,15)\n",
        "t1[0] = 11 # t1 will not change because tuple is immutable\n",
        "print(t1)\n"
      ],
      "metadata": {
        "colab": {
          "base_uri": "https://localhost:8080/"
        },
        "id": "l9YZHyW2KSBR",
        "outputId": "ecae985f-839c-4dcd-cea0-1400660ee520"
      },
      "execution_count": null,
      "outputs": [
        {
          "output_type": "stream",
          "name": "stdout",
          "text": [
            "[11, 13, 14, 15]\n",
            "(12, 13, 14, 15)\n"
          ]
        }
      ]
    },
    {
      "cell_type": "code",
      "source": [
        "# We have not study Function till now"
      ],
      "metadata": {
        "id": "o_lZ4443K1Pz"
      },
      "execution_count": null,
      "outputs": []
    },
    {
      "cell_type": "code",
      "source": [
        "num1 = int(input(\"Enter the first number : \"))\n",
        "num2 = int(input(\"Enter the second number : \"))\n",
        "sum = num1 + num2\n",
        "diff = num1 - num2\n",
        "prod = num1 * num2\n",
        "div = num1 / num2\n",
        "print(\"Sum = \",sum)\n",
        "print(\"Difference = \",diff)\n",
        "print(\"Product = \",prod)\n",
        "print(\"Division = \",div)"
      ],
      "metadata": {
        "colab": {
          "base_uri": "https://localhost:8080/"
        },
        "id": "3a_rUEofLhRu",
        "outputId": "8f79b5a1-e51d-4338-92d8-2945e04ffb98"
      },
      "execution_count": null,
      "outputs": [
        {
          "output_type": "stream",
          "name": "stdout",
          "text": [
            "Enter the first number : 15\n",
            "Enter the second number : 10\n",
            "Sum =  25\n",
            "Difference =  5\n",
            "Product =  150\n",
            "Division =  1.5\n"
          ]
        }
      ]
    },
    {
      "cell_type": "code",
      "source": [
        "number = 20\n",
        "if ((number > 0) and (number % 2 == 0)):\n",
        "  print(\"Number is +ve and Even also\")"
      ],
      "metadata": {
        "colab": {
          "base_uri": "https://localhost:8080/"
        },
        "id": "eLByEOHsLwgO",
        "outputId": "dbe8fc64-9818-4822-ee0d-ce5d3167b448"
      },
      "execution_count": null,
      "outputs": [
        {
          "output_type": "stream",
          "name": "stdout",
          "text": [
            "Number is +ve and Even also\n"
          ]
        }
      ]
    },
    {
      "cell_type": "code",
      "source": [
        "s1 = \"4\"\n",
        "a = int(s1)\n",
        "print(type(a))\n",
        "s2 = \"4.4\"\n",
        "b = float(s2)\n",
        "print(type(b))\n",
        "s3 = \"True\"\n",
        "c = bool(s3)\n",
        "print(type(c))"
      ],
      "metadata": {
        "colab": {
          "base_uri": "https://localhost:8080/"
        },
        "id": "2y5q9BkRNAon",
        "outputId": "436da9df-5be1-4afc-f8a7-dbd1680085ad"
      },
      "execution_count": null,
      "outputs": [
        {
          "output_type": "stream",
          "name": "stdout",
          "text": [
            "<class 'int'>\n",
            "<class 'float'>\n",
            "<class 'bool'>\n"
          ]
        }
      ]
    },
    {
      "cell_type": "code",
      "source": [
        "l = [\"12\",\"14\",\"16\"]\n",
        "l2 = []\n",
        "for i in l:\n",
        "  l2.append(int(i))\n",
        "print(l2)"
      ],
      "metadata": {
        "colab": {
          "base_uri": "https://localhost:8080/"
        },
        "id": "UQGWUTmXNKJk",
        "outputId": "ee93c7f3-56e0-4586-f837-253da183e282"
      },
      "execution_count": null,
      "outputs": [
        {
          "output_type": "stream",
          "name": "stdout",
          "text": [
            "[12, 14, 16]\n"
          ]
        }
      ]
    },
    {
      "cell_type": "code",
      "source": [
        "num = int(input(\"Enter the number : \"))\n",
        "if num > 0:\n",
        "  print(\"The number is +ve\")\n",
        "elif num == 0:\n",
        "  print(\"The number is zero\")\n",
        "else:\n",
        "  print(\"The number is -ve\")"
      ],
      "metadata": {
        "colab": {
          "base_uri": "https://localhost:8080/"
        },
        "id": "mTkeNs7oN-cr",
        "outputId": "c997b408-7e43-4017-f05a-053b825ef2fa"
      },
      "execution_count": null,
      "outputs": [
        {
          "output_type": "stream",
          "name": "stdout",
          "text": [
            "Enter the number : -23\n",
            "The number is -ve\n"
          ]
        }
      ]
    },
    {
      "cell_type": "code",
      "source": [
        "for i in range(1,11):\n",
        "  print(i,end=\" \")"
      ],
      "metadata": {
        "colab": {
          "base_uri": "https://localhost:8080/"
        },
        "id": "1MlYAu_uOe4H",
        "outputId": "390e8def-f509-4e3f-8a33-b35f8644405b"
      },
      "execution_count": null,
      "outputs": [
        {
          "output_type": "stream",
          "name": "stdout",
          "text": [
            "1 2 3 4 5 6 7 8 9 10 "
          ]
        }
      ]
    },
    {
      "cell_type": "code",
      "source": [
        "sum = 0\n",
        "for i in range(2,51,2):\n",
        "  sum = sum + i\n",
        "print(sum)"
      ],
      "metadata": {
        "colab": {
          "base_uri": "https://localhost:8080/"
        },
        "id": "nwBvCaYZO4GJ",
        "outputId": "b954b785-3029-4b2c-f2f9-e6836d6ee622"
      },
      "execution_count": null,
      "outputs": [
        {
          "output_type": "stream",
          "name": "stdout",
          "text": [
            "650\n"
          ]
        }
      ]
    },
    {
      "cell_type": "code",
      "source": [
        "s = \"Jayesh\"\n",
        "s2 = \"\"\n",
        "n = len(s)-1\n",
        "while (n>=0):\n",
        "  s2 += s[n]\n",
        "  n = n-1\n",
        "print(s2)\n"
      ],
      "metadata": {
        "colab": {
          "base_uri": "https://localhost:8080/"
        },
        "id": "iKIavZLLPDC-",
        "outputId": "ecc5d214-3453-4ea9-c8bc-77f63c95c7e1"
      },
      "execution_count": null,
      "outputs": [
        {
          "output_type": "stream",
          "name": "stdout",
          "text": [
            "hseyaJ\n"
          ]
        }
      ]
    },
    {
      "cell_type": "code",
      "source": [
        "num = int(input(\"Enter the number(+ve) : \"))\n",
        "fact = 1\n",
        "while (num > 1):\n",
        "  fact = fact * num\n",
        "  num = num - 1\n",
        "print(fact)"
      ],
      "metadata": {
        "colab": {
          "base_uri": "https://localhost:8080/"
        },
        "id": "Aum8ojbwPYnG",
        "outputId": "c8b8d1ea-99cd-4f84-edea-595443039ad6"
      },
      "execution_count": null,
      "outputs": [
        {
          "output_type": "stream",
          "name": "stdout",
          "text": [
            "Enter the number(+ve) : 4\n",
            "24\n"
          ]
        }
      ]
    },
    {
      "cell_type": "code",
      "source": [],
      "metadata": {
        "id": "sXuUen0sQeOI"
      },
      "execution_count": null,
      "outputs": []
    }
  ]
}